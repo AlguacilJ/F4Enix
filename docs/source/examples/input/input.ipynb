{
 "cells": [
  {
   "attachments": {},
   "cell_type": "markdown",
   "metadata": {},
   "source": [
    "# F4Enix pre-processing pipeline example\n",
    "This example aim to demonstrate a number of features for the F4Enix tool related to the ``f4enix.input`` sub-module"
   ]
  },
  {
   "attachments": {},
   "cell_type": "markdown",
   "metadata": {},
   "source": [
    "## Working with MCNP input files"
   ]
  },
  {
   "attachments": {},
   "cell_type": "markdown",
   "metadata": {},
   "source": [
    "### Quick general overview"
   ]
  },
  {
   "cell_type": "code",
   "execution_count": 3,
   "metadata": {},
   "outputs": [],
   "source": [
    "# Import the input module\n",
    "from f4enix.input.MCNPinput import Input\n",
    "\n",
    "# Load the input file\n",
    "inp_file = 'ITER_1D'\n",
    "inp = Input.from_input(inp_file)"
   ]
  },
  {
   "cell_type": "code",
   "execution_count": 3,
   "metadata": {},
   "outputs": [
    {
     "name": "stdout",
     "output_type": "stream",
     "text": [
      "{'1': <numjuggler.parser.Card object at 0x0000023C1758C160>, '2': <numjuggler.parser.Card object at 0x0000023C1758C190>, '3': <numjuggler.parser.Card object at 0x0000023C1758C130>, '4': <numjuggler.parser.Card object at 0x0000023C1758C0D0>, '5': <numjuggler.parser.Card object at 0x0000023C1758C100>, '6': <numjuggler.parser.Card object at 0x0000023C1758C1F0>, '7': <numjuggler.parser.Card object at 0x0000023C1758C1C0>, '8': <numjuggler.parser.Card object at 0x0000023C1758C220>, '9': <numjuggler.parser.Card object at 0x0000023C1758C250>, '10': <numjuggler.parser.Card object at 0x0000023C1758C280>, '11': <numjuggler.parser.Card object at 0x0000023C1758C2B0>, '12': <numjuggler.parser.Card object at 0x0000023C1758C2E0>, '13': <numjuggler.parser.Card object at 0x0000023C1758C310>, '14': <numjuggler.parser.Card object at 0x0000023C1758C340>, '15': <numjuggler.parser.Card object at 0x0000023C1758C370>, '16': <numjuggler.parser.Card object at 0x0000023C1758C3A0>, '17': <numjuggler.parser.Card object at 0x0000023C1758C3D0>, '18': <numjuggler.parser.Card object at 0x0000023C1758C400>, '19': <numjuggler.parser.Card object at 0x0000023C1758C430>, '20': <numjuggler.parser.Card object at 0x0000023C1758C460>, '21': <numjuggler.parser.Card object at 0x0000023C1758C490>, '22': <numjuggler.parser.Card object at 0x0000023C1758C4C0>, '23': <numjuggler.parser.Card object at 0x0000023C1758C4F0>, '24': <numjuggler.parser.Card object at 0x0000023C1758C520>, '25': <numjuggler.parser.Card object at 0x0000023C1758C550>, '26': <numjuggler.parser.Card object at 0x0000023C1758C580>, '27': <numjuggler.parser.Card object at 0x0000023C1758C5B0>, '28': <numjuggler.parser.Card object at 0x0000023C1758C5E0>, '29': <numjuggler.parser.Card object at 0x0000023C1758C610>, '30': <numjuggler.parser.Card object at 0x0000023C1758C640>, '31': <numjuggler.parser.Card object at 0x0000023C1758C670>, '32': <numjuggler.parser.Card object at 0x0000023C1758C6A0>, '33': <numjuggler.parser.Card object at 0x0000023C1758C6D0>, '34': <numjuggler.parser.Card object at 0x0000023C1758C700>, '35': <numjuggler.parser.Card object at 0x0000023C1758C730>, '36': <numjuggler.parser.Card object at 0x0000023C1758C760>, '37': <numjuggler.parser.Card object at 0x0000023C1758C790>, '38': <numjuggler.parser.Card object at 0x0000023C1758C7C0>, '39': <numjuggler.parser.Card object at 0x0000023C1758C7F0>, '40': <numjuggler.parser.Card object at 0x0000023C1758C820>, '41': <numjuggler.parser.Card object at 0x0000023C1758C850>, '42': <numjuggler.parser.Card object at 0x0000023C1758C880>, '43': <numjuggler.parser.Card object at 0x0000023C1758C8B0>, '44': <numjuggler.parser.Card object at 0x0000023C1758C8E0>, '45': <numjuggler.parser.Card object at 0x0000023C1758C910>, '46': <numjuggler.parser.Card object at 0x0000023C1758C940>, '47': <numjuggler.parser.Card object at 0x0000023C1758C970>, '48': <numjuggler.parser.Card object at 0x0000023C1758C9A0>, '49': <numjuggler.parser.Card object at 0x0000023C1758C9D0>, '50': <numjuggler.parser.Card object at 0x0000023C1758CA00>, '51': <numjuggler.parser.Card object at 0x0000023C1758CA30>, '52': <numjuggler.parser.Card object at 0x0000023C1758CA60>, '53': <numjuggler.parser.Card object at 0x0000023C1758CA90>, '54': <numjuggler.parser.Card object at 0x0000023C1758CAC0>, '55': <numjuggler.parser.Card object at 0x0000023C1758CAF0>, '56': <numjuggler.parser.Card object at 0x0000023C1758CB20>, '57': <numjuggler.parser.Card object at 0x0000023C1758CB50>, '58': <numjuggler.parser.Card object at 0x0000023C1758CB80>, '59': <numjuggler.parser.Card object at 0x0000023C1758CBB0>, '60': <numjuggler.parser.Card object at 0x0000023C1758CBE0>, '61': <numjuggler.parser.Card object at 0x0000023C1758CC10>, '62': <numjuggler.parser.Card object at 0x0000023C1758CC40>, '63': <numjuggler.parser.Card object at 0x0000023C1758CC70>, '64': <numjuggler.parser.Card object at 0x0000023C1758CCA0>, '65': <numjuggler.parser.Card object at 0x0000023C1758CCD0>, '66': <numjuggler.parser.Card object at 0x0000023C1758CD00>, '67': <numjuggler.parser.Card object at 0x0000023C1758CD30>, '68': <numjuggler.parser.Card object at 0x0000023C1758CD60>, '69': <numjuggler.parser.Card object at 0x0000023C1758CD90>, '70': <numjuggler.parser.Card object at 0x0000023C1758CDC0>, '71': <numjuggler.parser.Card object at 0x0000023C1758CE20>, '72': <numjuggler.parser.Card object at 0x0000023C1758CE50>, '73': <numjuggler.parser.Card object at 0x0000023C1758CE80>, '74': <numjuggler.parser.Card object at 0x0000023C1758CEB0>, '75': <numjuggler.parser.Card object at 0x0000023C1758CEE0>, '76': <numjuggler.parser.Card object at 0x0000023C1758CF10>, '77': <numjuggler.parser.Card object at 0x0000023C1758CF40>, '78': <numjuggler.parser.Card object at 0x0000023C1758CF70>, '79': <numjuggler.parser.Card object at 0x0000023C1758CFA0>, '80': <numjuggler.parser.Card object at 0x0000023C1758CFD0>, '81': <numjuggler.parser.Card object at 0x0000023C1758D000>, '82': <numjuggler.parser.Card object at 0x0000023C1758D030>, '83': <numjuggler.parser.Card object at 0x0000023C1758D060>, '84': <numjuggler.parser.Card object at 0x0000023C1758D090>, '85': <numjuggler.parser.Card object at 0x0000023C1758D0F0>, '86': <numjuggler.parser.Card object at 0x0000023C1758D120>, '87': <numjuggler.parser.Card object at 0x0000023C1758D150>, '88': <numjuggler.parser.Card object at 0x0000023C1758D180>, '89': <numjuggler.parser.Card object at 0x0000023C1758D1B0>, '90': <numjuggler.parser.Card object at 0x0000023C1758D1E0>, '91': <numjuggler.parser.Card object at 0x0000023C1758D210>, '92': <numjuggler.parser.Card object at 0x0000023C1758D240>, '93': <numjuggler.parser.Card object at 0x0000023C1758D270>, '94': <numjuggler.parser.Card object at 0x0000023C1758D2A0>, '95': <numjuggler.parser.Card object at 0x0000023C1758D2D0>, '96': <numjuggler.parser.Card object at 0x0000023C1758D300>, '97': <numjuggler.parser.Card object at 0x0000023C1758D330>, '98': <numjuggler.parser.Card object at 0x0000023C1758D360>, '99': <numjuggler.parser.Card object at 0x0000023C1758D390>, '100': <numjuggler.parser.Card object at 0x0000023C1758D3C0>, '101': <numjuggler.parser.Card object at 0x0000023C1758D3F0>, '102': <numjuggler.parser.Card object at 0x0000023C1758D420>, '103': <numjuggler.parser.Card object at 0x0000023C1758D450>, '104': <numjuggler.parser.Card object at 0x0000023C1758D480>, '105': <numjuggler.parser.Card object at 0x0000023C1758D4B0>, '106': <numjuggler.parser.Card object at 0x0000023C1758D510>}\n",
      "{'1': <numjuggler.parser.Card object at 0x0000023C1758D570>, '60': <numjuggler.parser.Card object at 0x0000023C1758D5D0>, '61': <numjuggler.parser.Card object at 0x0000023C1758D600>, '62': <numjuggler.parser.Card object at 0x0000023C1758D630>, '63': <numjuggler.parser.Card object at 0x0000023C1758D660>, '64': <numjuggler.parser.Card object at 0x0000023C1758D690>, '65': <numjuggler.parser.Card object at 0x0000023C1758D6C0>, '66': <numjuggler.parser.Card object at 0x0000023C1758D6F0>, '67': <numjuggler.parser.Card object at 0x0000023C1758D720>, '68': <numjuggler.parser.Card object at 0x0000023C1758D750>, '69': <numjuggler.parser.Card object at 0x0000023C1758D780>, '70': <numjuggler.parser.Card object at 0x0000023C1758D7B0>, '71': <numjuggler.parser.Card object at 0x0000023C1758D7E0>, '72': <numjuggler.parser.Card object at 0x0000023C1758D810>, '73': <numjuggler.parser.Card object at 0x0000023C1758D840>, '74': <numjuggler.parser.Card object at 0x0000023C1758D870>, '75': <numjuggler.parser.Card object at 0x0000023C1758D8A0>, '76': <numjuggler.parser.Card object at 0x0000023C1758D8D0>, '77': <numjuggler.parser.Card object at 0x0000023C1758D900>, '78': <numjuggler.parser.Card object at 0x0000023C1758D930>, '2': <numjuggler.parser.Card object at 0x0000023C1758D960>, '3': <numjuggler.parser.Card object at 0x0000023C1758D990>, '4': <numjuggler.parser.Card object at 0x0000023C1758D9C0>, '5': <numjuggler.parser.Card object at 0x0000023C1758D9F0>, '6': <numjuggler.parser.Card object at 0x0000023C1758DA20>, '80': <numjuggler.parser.Card object at 0x0000023C1758DA50>, '81': <numjuggler.parser.Card object at 0x0000023C1758DA80>, '82': <numjuggler.parser.Card object at 0x0000023C1758DAB0>, '83': <numjuggler.parser.Card object at 0x0000023C1758DAE0>, '7': <numjuggler.parser.Card object at 0x0000023C1758DB10>, '8': <numjuggler.parser.Card object at 0x0000023C1758DB40>, '9': <numjuggler.parser.Card object at 0x0000023C1758DB70>, '10': <numjuggler.parser.Card object at 0x0000023C1758DBA0>, '11': <numjuggler.parser.Card object at 0x0000023C1758DBD0>, '12': <numjuggler.parser.Card object at 0x0000023C1758DC00>, '13': <numjuggler.parser.Card object at 0x0000023C1758DC30>, '14': <numjuggler.parser.Card object at 0x0000023C1758DC60>, '15': <numjuggler.parser.Card object at 0x0000023C1758DC90>, '16': <numjuggler.parser.Card object at 0x0000023C1758DCC0>, '17': <numjuggler.parser.Card object at 0x0000023C1758DCF0>, '18': <numjuggler.parser.Card object at 0x0000023C1758DD20>, '19': <numjuggler.parser.Card object at 0x0000023C1758DD50>, '20': <numjuggler.parser.Card object at 0x0000023C1758DD80>, '21': <numjuggler.parser.Card object at 0x0000023C1758DDB0>, '22': <numjuggler.parser.Card object at 0x0000023C1758DDE0>, '23': <numjuggler.parser.Card object at 0x0000023C1758DE10>, '24': <numjuggler.parser.Card object at 0x0000023C1758DE40>, '25': <numjuggler.parser.Card object at 0x0000023C1758DE70>, '26': <numjuggler.parser.Card object at 0x0000023C1758DEA0>, '27': <numjuggler.parser.Card object at 0x0000023C1758DED0>, '28': <numjuggler.parser.Card object at 0x0000023C1758DF00>, '29': <numjuggler.parser.Card object at 0x0000023C1758DF30>, '30': <numjuggler.parser.Card object at 0x0000023C1758DF60>, '31': <numjuggler.parser.Card object at 0x0000023C1758DF90>, '32': <numjuggler.parser.Card object at 0x0000023C1758DFC0>, '33': <numjuggler.parser.Card object at 0x0000023C1758DFF0>, '34': <numjuggler.parser.Card object at 0x0000023C1758E020>, '35': <numjuggler.parser.Card object at 0x0000023C1758E050>, '36': <numjuggler.parser.Card object at 0x0000023C1758E080>, '37': <numjuggler.parser.Card object at 0x0000023C1758E0B0>, '38': <numjuggler.parser.Card object at 0x0000023C1758E0E0>, '39': <numjuggler.parser.Card object at 0x0000023C1758E110>, '40': <numjuggler.parser.Card object at 0x0000023C1758E140>, '41': <numjuggler.parser.Card object at 0x0000023C1758E170>, '42': <numjuggler.parser.Card object at 0x0000023C1758E1A0>, '43': <numjuggler.parser.Card object at 0x0000023C1758E1D0>, '44': <numjuggler.parser.Card object at 0x0000023C1758E200>, '45': <numjuggler.parser.Card object at 0x0000023C1758E230>, '46': <numjuggler.parser.Card object at 0x0000023C1758E260>, '47': <numjuggler.parser.Card object at 0x0000023C1758E290>, '48': <numjuggler.parser.Card object at 0x0000023C1758E2C0>, '84': <numjuggler.parser.Card object at 0x0000023C1758E2F0>, '85': <numjuggler.parser.Card object at 0x0000023C1758E320>, '86': <numjuggler.parser.Card object at 0x0000023C1758E350>, '87': <numjuggler.parser.Card object at 0x0000023C1758E380>, '88': <numjuggler.parser.Card object at 0x0000023C1758E3B0>, '89': <numjuggler.parser.Card object at 0x0000023C1758E3E0>, '90': <numjuggler.parser.Card object at 0x0000023C1758E410>, '91': <numjuggler.parser.Card object at 0x0000023C1758E440>, '92': <numjuggler.parser.Card object at 0x0000023C1758E470>, '49': <numjuggler.parser.Card object at 0x0000023C1758E4A0>, '50': <numjuggler.parser.Card object at 0x0000023C1758E4D0>, '51': <numjuggler.parser.Card object at 0x0000023C1758E500>, '52': <numjuggler.parser.Card object at 0x0000023C1758E530>, '53': <numjuggler.parser.Card object at 0x0000023C1758E560>, '93': <numjuggler.parser.Card object at 0x0000023C1758E590>, '94': <numjuggler.parser.Card object at 0x0000023C1758E5C0>, '95': <numjuggler.parser.Card object at 0x0000023C1758E5F0>, '96': <numjuggler.parser.Card object at 0x0000023C1758E620>, '97': <numjuggler.parser.Card object at 0x0000023C1758E650>, '98': <numjuggler.parser.Card object at 0x0000023C1758E680>, '99': <numjuggler.parser.Card object at 0x0000023C1758E6B0>, '100': <numjuggler.parser.Card object at 0x0000023C1758E6E0>, '101': <numjuggler.parser.Card object at 0x0000023C1758E710>, '102': <numjuggler.parser.Card object at 0x0000023C1758E740>, '103': <numjuggler.parser.Card object at 0x0000023C1758E770>, '104': <numjuggler.parser.Card object at 0x0000023C1758E7A0>, '105': <numjuggler.parser.Card object at 0x0000023C1758E7D0>, '106': <numjuggler.parser.Card object at 0x0000023C1758E800>, '107': <numjuggler.parser.Card object at 0x0000023C1758E830>, '108': <numjuggler.parser.Card object at 0x0000023C1758E860>, '109': <numjuggler.parser.Card object at 0x0000023C1758E890>, '110': <numjuggler.parser.Card object at 0x0000023C1758E8C0>, '111': <numjuggler.parser.Card object at 0x0000023C1758E8F0>, '54': <numjuggler.parser.Card object at 0x0000023C1758E920>, '*55': <numjuggler.parser.Card object at 0x0000023C1758E950>, '*56': <numjuggler.parser.Card object at 0x0000023C1758E980>}\n",
      "{'M1': <f4enix.input.materials.Material object at 0x0000023C175F5930>, 'M2': <f4enix.input.materials.Material object at 0x0000023C175F5A80>, 'M3': <f4enix.input.materials.Material object at 0x0000023C175F60B0>, 'M4': <f4enix.input.materials.Material object at 0x0000023C175F6260>, 'M5': <f4enix.input.materials.Material object at 0x0000023C175F64D0>, 'M6': <f4enix.input.materials.Material object at 0x0000023C175F67A0>, 'M7': <f4enix.input.materials.Material object at 0x0000023C175F6B30>, 'M8': <f4enix.input.materials.Material object at 0x0000023C175F7040>, 'M9': <f4enix.input.materials.Material object at 0x0000023C175F7130>, 'M10': <f4enix.input.materials.Material object at 0x0000023C175F77C0>, 'M11': <f4enix.input.materials.Material object at 0x0000023C1765A230>, 'M12': <f4enix.input.materials.Material object at 0x0000023C1765B580>, 'M13': <f4enix.input.materials.Material object at 0x0000023C1767BD30>, 'M14': <f4enix.input.materials.Material object at 0x0000023C176982E0>, 'M15': <f4enix.input.materials.Material object at 0x0000023C1769B0D0>, 'M16': <f4enix.input.materials.Material object at 0x0000023C1769B2E0>, 'M17': <f4enix.input.materials.Material object at 0x0000023C1769B5B0>, 'M18': <f4enix.input.materials.Material object at 0x0000023C1769B820>, 'M19': <f4enix.input.materials.Material object at 0x0000023C1769B970>, 'M20': <f4enix.input.materials.Material object at 0x0000023C1769BB20>, 'M21': <f4enix.input.materials.Material object at 0x0000023C1769BEB0>, 'M74': <f4enix.input.materials.Material object at 0x0000023C176BA560>}\n",
      "{}\n",
      "{'SDEF': <numjuggler.parser.Card object at 0x0000023C1758F250>, 'SP1': <numjuggler.parser.Card object at 0x0000023C1758F2B0>, 'SI2': <numjuggler.parser.Card object at 0x0000023C1758F310>, 'SP2': <numjuggler.parser.Card object at 0x0000023C1758F340>, 'SI3': <numjuggler.parser.Card object at 0x0000023C1758F3A0>, 'SP3': <numjuggler.parser.Card object at 0x0000023C1758F3D0>, 'SI4': <numjuggler.parser.Card object at 0x0000023C1758F430>, 'SP4': <numjuggler.parser.Card object at 0x0000023C1758F460>, 'MODE': <numjuggler.parser.Card object at 0x0000023C1758F4C0>, 'PHYS:N': <numjuggler.parser.Card object at 0x0000023C1758F520>, 'CUT:N': <numjuggler.parser.Card object at 0x0000023C1758F580>, 'E4': <numjuggler.parser.Card object at 0x0000023C1758F5E0>, 'FC4': <numjuggler.parser.Card object at 0x0000023C1758F640>, 'F4': <numjuggler.parser.Card object at 0x0000023C1758F670>, 'FM4': <numjuggler.parser.Card object at 0x0000023C1758F6A0>, 'FC204': <numjuggler.parser.Card object at 0x0000023C1758F700>, 'F204': <numjuggler.parser.Card object at 0x0000023C1758F730>, 'FM204': <numjuggler.parser.Card object at 0x0000023C1758F760>, 'FC14': <numjuggler.parser.Card object at 0x0000023C1758F7C0>, 'F14': <numjuggler.parser.Card object at 0x0000023C1758F7F0>, 'FM14': <numjuggler.parser.Card object at 0x0000023C1758F820>, 'E14': <numjuggler.parser.Card object at 0x0000023C1758F850>, 'FQ14': <numjuggler.parser.Card object at 0x0000023C1758F880>, 'FC214': <numjuggler.parser.Card object at 0x0000023C1758F8E0>, 'F214': <numjuggler.parser.Card object at 0x0000023C1758F910>, 'FM214': <numjuggler.parser.Card object at 0x0000023C1758F940>, 'FC6': <numjuggler.parser.Card object at 0x0000023C1758F9A0>, 'F6': <numjuggler.parser.Card object at 0x0000023C1758F9D0>, 'FM6': <numjuggler.parser.Card object at 0x0000023C1758FA00>, 'FC16': <numjuggler.parser.Card object at 0x0000023C1758FA60>, 'F16': <numjuggler.parser.Card object at 0x0000023C1758FA90>, 'FM16': <numjuggler.parser.Card object at 0x0000023C1758FAC0>, 'FC26': <numjuggler.parser.Card object at 0x0000023C1758FB20>, 'F26': <numjuggler.parser.Card object at 0x0000023C1758FB50>, 'FM26': <numjuggler.parser.Card object at 0x0000023C1758FB80>, 'FC24': <numjuggler.parser.Card object at 0x0000023C1758FBE0>, 'F24': <numjuggler.parser.Card object at 0x0000023C1758FC10>, 'FM24': <numjuggler.parser.Card object at 0x0000023C1758FC40>, 'FC34': <numjuggler.parser.Card object at 0x0000023C1758FCA0>, 'F34': <numjuggler.parser.Card object at 0x0000023C1758FCD0>, 'FM34': <numjuggler.parser.Card object at 0x0000023C1758FD00>, 'FC44': <numjuggler.parser.Card object at 0x0000023C1758FD60>, 'F44': <numjuggler.parser.Card object at 0x0000023C1758FD90>, 'FM44': <numjuggler.parser.Card object at 0x0000023C1758FDC0>, 'FC54': <numjuggler.parser.Card object at 0x0000023C1758FE20>, 'F54': <numjuggler.parser.Card object at 0x0000023C1758FE50>, 'FM54': <numjuggler.parser.Card object at 0x0000023C1758FE80>, 'FC64': <numjuggler.parser.Card object at 0x0000023C1758FEE0>, 'F64': <numjuggler.parser.Card object at 0x0000023C1758FF10>, 'FM64': <numjuggler.parser.Card object at 0x0000023C1758FF40>, 'FC74': <numjuggler.parser.Card object at 0x0000023C1758FFA0>, 'F74': <numjuggler.parser.Card object at 0x0000023C1758FFD0>, 'FM74': <numjuggler.parser.Card object at 0x0000023C175F4040>, 'FC84': <numjuggler.parser.Card object at 0x0000023C175F40A0>, 'F84': <numjuggler.parser.Card object at 0x0000023C175F40D0>, 'FM84': <numjuggler.parser.Card object at 0x0000023C175F4100>, 'FC94': <numjuggler.parser.Card object at 0x0000023C175F4160>, 'F94': <numjuggler.parser.Card object at 0x0000023C175F4190>, 'FM94': <numjuggler.parser.Card object at 0x0000023C175F41C0>, 'FC104': <numjuggler.parser.Card object at 0x0000023C175F4220>, 'F104': <numjuggler.parser.Card object at 0x0000023C175F4250>, 'FM104': <numjuggler.parser.Card object at 0x0000023C175F4280>, 'FC114': <numjuggler.parser.Card object at 0x0000023C175F42E0>, 'F114': <numjuggler.parser.Card object at 0x0000023C175F4310>, 'FM114': <numjuggler.parser.Card object at 0x0000023C175F4340>, 'FC124': <numjuggler.parser.Card object at 0x0000023C175F43A0>, 'F124': <numjuggler.parser.Card object at 0x0000023C175F43D0>, 'FM124': <numjuggler.parser.Card object at 0x0000023C175F4400>, 'FC134': <numjuggler.parser.Card object at 0x0000023C175F4460>, 'F134': <numjuggler.parser.Card object at 0x0000023C175F4490>, 'FM134': <numjuggler.parser.Card object at 0x0000023C175F44C0>, 'FC144': <numjuggler.parser.Card object at 0x0000023C175F4520>, 'F144': <numjuggler.parser.Card object at 0x0000023C175F4550>, 'FM144': <numjuggler.parser.Card object at 0x0000023C175F4580>, 'FC154': <numjuggler.parser.Card object at 0x0000023C175F45E0>, 'F154': <numjuggler.parser.Card object at 0x0000023C175F4610>, 'FM154': <numjuggler.parser.Card object at 0x0000023C175F4640>, 'FC164': <numjuggler.parser.Card object at 0x0000023C175F46A0>, 'F164': <numjuggler.parser.Card object at 0x0000023C175F46D0>, 'FM164': <numjuggler.parser.Card object at 0x0000023C175F4700>, 'FC174': <numjuggler.parser.Card object at 0x0000023C175F4760>, 'F174': <numjuggler.parser.Card object at 0x0000023C175F4790>, 'E174': <numjuggler.parser.Card object at 0x0000023C175F47C0>, 'FM174': <numjuggler.parser.Card object at 0x0000023C175F47F0>, 'FC1004': <numjuggler.parser.Card object at 0x0000023C175F4850>, 'FMESH1004': <numjuggler.parser.Card object at 0x0000023C175F4880>, 'FM1004': <numjuggler.parser.Card object at 0x0000023C175F48B0>, 'FC1024': <numjuggler.parser.Card object at 0x0000023C175F4910>, 'FMESH1024': <numjuggler.parser.Card object at 0x0000023C175F4940>, 'FM1024': <numjuggler.parser.Card object at 0x0000023C175F4970>, 'PRINT': <numjuggler.parser.Card object at 0x0000023C175F49D0>, 'RAND': <numjuggler.parser.Card object at 0x0000023C175F4A30>, 'PRDMP': <numjuggler.parser.Card object at 0x0000023C175F4A90>, 'NPS': <numjuggler.parser.Card object at 0x0000023C175F4AC0>}\n"
     ]
    }
   ],
   "source": [
    "# Here are the main attributes of the input\n",
    "print(inp.cells)\n",
    "print(inp.surfs)\n",
    "print(inp.materials)  # datacard class that have their own complete parser\n",
    "print(inp.transformations)  # uncomplete parser (no transformations in this inp)\n",
    "print(inp.other_data)  # treated as general data cards, no parser"
   ]
  },
  {
   "cell_type": "code",
   "execution_count": 4,
   "metadata": {},
   "outputs": [
    {
     "name": "stdout",
     "output_type": "stream",
     "text": [
      "{'2': <numjuggler.parser.Card object at 0x0000023C1758C190>}\n",
      "{'1': <numjuggler.parser.Card object at 0x0000023C1758D570>, '2': <numjuggler.parser.Card object at 0x0000023C1758D960>}\n",
      "{'2': <numjuggler.parser.Card object at 0x0000023C1758F1F0>, '3': <numjuggler.parser.Card object at 0x0000023C1758FAF0>, '4': <numjuggler.parser.Card object at 0x0000023C1758FF70>, '5': <numjuggler.parser.Card object at 0x0000023C1758E9B0>, '6': <numjuggler.parser.Card object at 0x0000023C1758CDF0>, '7': <numjuggler.parser.Card object at 0x0000023C1758F550>, '8': <numjuggler.parser.Card object at 0x0000023C1758F790>, '9': <numjuggler.parser.Card object at 0x0000023C1758F6D0>, '10': <numjuggler.parser.Card object at 0x0000023C1758EE30>, '11': <numjuggler.parser.Card object at 0x0000023C1758EE00>, '12': <numjuggler.parser.Card object at 0x0000023C1758FDF0>, '13': <numjuggler.parser.Card object at 0x0000023C1758ED40>, '14': <numjuggler.parser.Card object at 0x0000023C1758EB90>, '15': <numjuggler.parser.Card object at 0x0000023C1758EB60>, '16': <numjuggler.parser.Card object at 0x0000023C1758EBF0>, '17': <numjuggler.parser.Card object at 0x0000023C1758F400>, '18': <numjuggler.parser.Card object at 0x0000023C1758D540>, '19': <numjuggler.parser.Card object at 0x0000023C17527EE0>, '20': <numjuggler.parser.Card object at 0x0000023C176BA5F0>, '21': <numjuggler.parser.Card object at 0x0000023C176BA650>, '86': <numjuggler.parser.Card object at 0x0000023C176BA6B0>, '87': <numjuggler.parser.Card object at 0x0000023C176BA710>, '88': <numjuggler.parser.Card object at 0x0000023C176BA770>, '89': <numjuggler.parser.Card object at 0x0000023C176BA7D0>, '90': <numjuggler.parser.Card object at 0x0000023C176BA830>, '91': <numjuggler.parser.Card object at 0x0000023C176BA890>, '92': <numjuggler.parser.Card object at 0x0000023C176BA8F0>, '93': <numjuggler.parser.Card object at 0x0000023C176BA950>, '94': <numjuggler.parser.Card object at 0x0000023C176BA9B0>, '95': <numjuggler.parser.Card object at 0x0000023C176BAA10>, '96': <numjuggler.parser.Card object at 0x0000023C176BAA70>, '97': <numjuggler.parser.Card object at 0x0000023C176BAAD0>, '98': <numjuggler.parser.Card object at 0x0000023C176BAB30>, '99': <numjuggler.parser.Card object at 0x0000023C176BAB90>, '100': <numjuggler.parser.Card object at 0x0000023C176BABF0>, '101': <numjuggler.parser.Card object at 0x0000023C176BAC50>, '102': <numjuggler.parser.Card object at 0x0000023C176BACB0>, '103': <numjuggler.parser.Card object at 0x0000023C176BAD10>, '104': <numjuggler.parser.Card object at 0x0000023C176BAD70>, '105': <numjuggler.parser.Card object at 0x0000023C176BADD0>}\n",
      "{'M2': <f4enix.input.materials.Material object at 0x0000023C175F5A80>, 'M3': <f4enix.input.materials.Material object at 0x0000023C175F60B0>}\n",
      "{'SDEF': <numjuggler.parser.Card object at 0x0000023C1758F250>}\n"
     ]
    }
   ],
   "source": [
    "# Get a specific card\n",
    "print(inp.get_cells_by_id([2]))  # cell n.2\n",
    "print(inp.get_surfs_by_id([1, 2]))  # surfaces n.1 and 2\n",
    "print(inp.get_cells_by_matID('13'))  # cells to which material 13 is assigned\n",
    "print(inp.get_materials_subset(['m2', 'm3']))  # materials M2 and M3\n",
    "print(inp.get_data_cards('SDEF'))  # generic data cards"
   ]
  },
  {
   "attachments": {},
   "cell_type": "markdown",
   "metadata": {},
   "source": [
    "### Working with surfaces and cells"
   ]
  },
  {
   "attachments": {},
   "cell_type": "markdown",
   "metadata": {},
   "source": [
    "A common example may be the need to modify some cells attributes based on an arbitrary logic. Here is an example where the density of cells is reduced by a factor depending on the material. If a constant factor has to be used, consider the ``Input.scale_densities()`` method"
   ]
  },
  {
   "cell_type": "code",
   "execution_count": 5,
   "metadata": {},
   "outputs": [
    {
     "name": "stdout",
     "output_type": "stream",
     "text": [
      "C:\\Users\\laghida\\AppData\\Local\\Temp\\new_input.i\n"
     ]
    }
   ],
   "source": [
    "from copy import deepcopy\n",
    "import tempfile  # To have a scratch directory for the example\n",
    "import os\n",
    "\n",
    "# It may be useful to preserve the original input\n",
    "inp2 = deepcopy(inp)\n",
    "\n",
    "# Set some density correction factors for specific materials\n",
    "density_factors = {61: 1.1, 63: 10}\n",
    "\n",
    "# Cycle on the cells dictionary\n",
    "for idx_cell, cell in inp2.cells.items():\n",
    "    # Change density based on material\n",
    "    # mat = cell._get_value_by_type('mat')\n",
    "    mat = cell.get_m()\n",
    "    # get the density of the cell\n",
    "    rho = cell.get_d()\n",
    "    if mat in [61, 63]:\n",
    "        cell.set_d(rho*density_factors[mat])\n",
    "    elif mat == 0:\n",
    "        pass  # do not change density of void cells\n",
    "    else:\n",
    "        # scale all other densitites by a constant factor\n",
    "        cell.set_d(rho*0.5)\n",
    "\n",
    "# Print the modified file\n",
    "outfile = os.path.join(tempfile.gettempdir(), 'new_input.i')\n",
    "inp.write(outfile)\n",
    "print(outfile)"
   ]
  },
  {
   "attachments": {},
   "cell_type": "markdown",
   "metadata": {},
   "source": [
    "This input parser is built on [numjuggler](https://pypi.org/project/numjuggler/), hence every card is a ``numjuggler.parser.Card``. The recommended way to get and modify fields of these cards are to use the ``_get_value_by_type()`` and ``_set_value_by_type()`` methods, as in the example above. Since numjuggler is lacking extensive documentation, to understand which methods are available, the ``dir()`` method can be useful, while the ``values`` attributes should be used to verify the available values to get/modify."
   ]
  },
  {
   "cell_type": "code",
   "execution_count": 6,
   "metadata": {},
   "outputs": [
    {
     "name": "stdout",
     "output_type": "stream",
     "text": [
      "<class 'numjuggler.parser.Card'>\n",
      "['_Card__cr', '_Card__d', '_Card__f', '_Card__i', '_Card__m', '_Card__st', '_Card__u', '__class__', '__delattr__', '__dict__', '__dir__', '__doc__', '__eq__', '__format__', '__ge__', '__getattribute__', '__gt__', '__hash__', '__init__', '__init_subclass__', '__le__', '__lt__', '__module__', '__ne__', '__new__', '__reduce__', '__reduce_ex__', '__repr__', '__setattr__', '__sizeof__', '__slotnames__', '__str__', '__subclasshook__', '__weakref__', '_get_value_by_type', '_protect_nums', '_set_value_by_type', 'apply_map', 'card', 'cstrg', 'ctype', 'debug', 'dtype', 'geom_prefix', 'geom_suffix', 'get_d', 'get_f', 'get_geom', 'get_imp', 'get_input', 'get_m', 'get_refcells', 'get_u', 'get_values', 'hidden', 'input', 'lines', 'name', 'pos', 'print_debug', 'remove_fill', 'remove_spaces', 'set_d', 'template', 'values']\n"
     ]
    },
    {
     "data": {
      "text/plain": [
       "[(106, 'cel'),\n",
       " (0, 'mat'),\n",
       " ('', '#gpr'),\n",
       " (55, 'sur'),\n",
       " (54, 'sur'),\n",
       " (56, 'sur'),\n",
       " ('', '#gsu')]"
      ]
     },
     "execution_count": 6,
     "metadata": {},
     "output_type": "execute_result"
    }
   ],
   "source": [
    "print(type(cell))\n",
    "print(dir(cell))\n",
    "cell.values"
   ]
  },
  {
   "cell_type": "markdown",
   "metadata": {},
   "source": [
    "#### Replace a material"
   ]
  },
  {
   "cell_type": "markdown",
   "metadata": {},
   "source": [
    "It is possible to replace a material with another one (and another density) or set it to void. This can be done across the entire input or only in specific universes."
   ]
  },
  {
   "cell_type": "code",
   "execution_count": 7,
   "metadata": {},
   "outputs": [
    {
     "name": "stdout",
     "output_type": "stream",
     "text": [
      "original card:\n",
      "2     13  7.2058e-002  -55 56   1  -60   imp:n,p=8388608  \n",
      "\n",
      "modified card:\n",
      "2     10  -1  -55 56   1  -60   imp:n,p=8388608           \n",
      "\n"
     ]
    }
   ],
   "source": [
    "# It may be useful to preserve the original input\n",
    "inp3 = deepcopy(inp)\n",
    "\n",
    "print('original card:')\n",
    "print(inp3.cells['2'].card())\n",
    "# In this case replaces in the entire input\n",
    "inp3.replace_material(10, '-1', 13)\n",
    "print('modified card:')\n",
    "print(inp3.cells['2'].card())"
   ]
  },
  {
   "attachments": {},
   "cell_type": "markdown",
   "metadata": {},
   "source": [
    "### Working with materials"
   ]
  },
  {
   "attachments": {},
   "cell_type": "markdown",
   "metadata": {},
   "source": [
    "#### Get info on the material section of the input and switch fraction"
   ]
  },
  {
   "cell_type": "code",
   "execution_count": 8,
   "metadata": {},
   "outputs": [
    {
     "data": {
      "text/html": [
       "<div>\n",
       "<style scoped>\n",
       "    .dataframe tbody tr th:only-of-type {\n",
       "        vertical-align: middle;\n",
       "    }\n",
       "\n",
       "    .dataframe tbody tr th {\n",
       "        vertical-align: top;\n",
       "    }\n",
       "\n",
       "    .dataframe thead th {\n",
       "        text-align: right;\n",
       "    }\n",
       "</style>\n",
       "<table border=\"1\" class=\"dataframe\">\n",
       "  <thead>\n",
       "    <tr style=\"text-align: right;\">\n",
       "      <th></th>\n",
       "      <th></th>\n",
       "      <th></th>\n",
       "      <th>Atom Fraction</th>\n",
       "      <th>Mass Fraction</th>\n",
       "    </tr>\n",
       "    <tr>\n",
       "      <th>Material</th>\n",
       "      <th>Submaterial</th>\n",
       "      <th>Element</th>\n",
       "      <th></th>\n",
       "      <th></th>\n",
       "    </tr>\n",
       "  </thead>\n",
       "  <tbody>\n",
       "    <tr>\n",
       "      <th rowspan=\"5\" valign=\"top\">M1</th>\n",
       "      <th>1</th>\n",
       "      <th>H</th>\n",
       "      <td>2.162999e-02</td>\n",
       "      <td>-0.019046</td>\n",
       "    </tr>\n",
       "    <tr>\n",
       "      <th>2</th>\n",
       "      <th>C</th>\n",
       "      <td>1.892004e-02</td>\n",
       "      <td>-0.198524</td>\n",
       "    </tr>\n",
       "    <tr>\n",
       "      <th>3</th>\n",
       "      <th>N</th>\n",
       "      <td>2.059998e-03</td>\n",
       "      <td>-0.025207</td>\n",
       "    </tr>\n",
       "    <tr>\n",
       "      <th>4</th>\n",
       "      <th>O</th>\n",
       "      <td>2.705996e-02</td>\n",
       "      <td>-0.378226</td>\n",
       "    </tr>\n",
       "    <tr>\n",
       "      <th>5</th>\n",
       "      <th>Mg</th>\n",
       "      <td>1.190000e-03</td>\n",
       "      <td>-0.025268</td>\n",
       "    </tr>\n",
       "    <tr>\n",
       "      <th>...</th>\n",
       "      <th>...</th>\n",
       "      <th>...</th>\n",
       "      <td>...</td>\n",
       "      <td>...</td>\n",
       "    </tr>\n",
       "    <tr>\n",
       "      <th rowspan=\"5\" valign=\"top\">M74</th>\n",
       "      <th rowspan=\"5\" valign=\"top\">1</th>\n",
       "      <th>Si</th>\n",
       "      <td>8.157524e-06</td>\n",
       "      <td>-0.000020</td>\n",
       "    </tr>\n",
       "    <tr>\n",
       "      <th>Ta</th>\n",
       "      <td>6.330820e-07</td>\n",
       "      <td>-0.000010</td>\n",
       "    </tr>\n",
       "    <tr>\n",
       "      <th>Ti</th>\n",
       "      <td>2.392466e-06</td>\n",
       "      <td>-0.000010</td>\n",
       "    </tr>\n",
       "    <tr>\n",
       "      <th>Zr</th>\n",
       "      <td>1.255620e-06</td>\n",
       "      <td>-0.000010</td>\n",
       "    </tr>\n",
       "    <tr>\n",
       "      <th>W</th>\n",
       "      <td>6.220930e-02</td>\n",
       "      <td>-0.999565</td>\n",
       "    </tr>\n",
       "  </tbody>\n",
       "</table>\n",
       "<p>161 rows × 2 columns</p>\n",
       "</div>"
      ],
      "text/plain": [
       "                              Atom Fraction  Mass Fraction\n",
       "Material Submaterial Element                              \n",
       "M1       1           H         2.162999e-02      -0.019046\n",
       "         2           C         1.892004e-02      -0.198524\n",
       "         3           N         2.059998e-03      -0.025207\n",
       "         4           O         2.705996e-02      -0.378226\n",
       "         5           Mg        1.190000e-03      -0.025268\n",
       "...                                     ...            ...\n",
       "M74      1           Si        8.157524e-06      -0.000020\n",
       "                     Ta        6.330820e-07      -0.000010\n",
       "                     Ti        2.392466e-06      -0.000010\n",
       "                     Zr        1.255620e-06      -0.000010\n",
       "                     W         6.220930e-02      -0.999565\n",
       "\n",
       "[161 rows x 2 columns]"
      ]
     },
     "execution_count": 8,
     "metadata": {},
     "output_type": "execute_result"
    }
   ],
   "source": [
    "# For many operations on materials a libmanager is needed. For most application\n",
    "# the default libmanager can be used, check the libmanager documentation for\n",
    "# more details\n",
    "from f4enix.input.libmanager import LibManager\n",
    "libmanager = LibManager()\n",
    "\n",
    "# Get a summary of the materials defined in the input\n",
    "df_mat, df_submat = inp.materials.get_info(libmanager)\n",
    "df_mat\n"
   ]
  },
  {
   "cell_type": "code",
   "execution_count": 9,
   "metadata": {},
   "outputs": [
    {
     "data": {
      "text/html": [
       "<div>\n",
       "<style scoped>\n",
       "    .dataframe tbody tr th:only-of-type {\n",
       "        vertical-align: middle;\n",
       "    }\n",
       "\n",
       "    .dataframe tbody tr th {\n",
       "        vertical-align: top;\n",
       "    }\n",
       "\n",
       "    .dataframe thead th {\n",
       "        text-align: right;\n",
       "    }\n",
       "</style>\n",
       "<table border=\"1\" class=\"dataframe\">\n",
       "  <thead>\n",
       "    <tr style=\"text-align: right;\">\n",
       "      <th></th>\n",
       "      <th></th>\n",
       "      <th></th>\n",
       "      <th>Fraction</th>\n",
       "      <th>Sub-Material Fraction</th>\n",
       "      <th>Material Fraction</th>\n",
       "    </tr>\n",
       "    <tr>\n",
       "      <th>Material</th>\n",
       "      <th>Submaterial</th>\n",
       "      <th>Element</th>\n",
       "      <th></th>\n",
       "      <th></th>\n",
       "      <th></th>\n",
       "    </tr>\n",
       "  </thead>\n",
       "  <tbody>\n",
       "    <tr>\n",
       "      <th rowspan=\"5\" valign=\"top\">M1</th>\n",
       "      <th>1</th>\n",
       "      <th>H</th>\n",
       "      <td>0.021630</td>\n",
       "      <td>1.000000</td>\n",
       "      <td>0.256858</td>\n",
       "    </tr>\n",
       "    <tr>\n",
       "      <th>2</th>\n",
       "      <th>C</th>\n",
       "      <td>0.018920</td>\n",
       "      <td>1.000000</td>\n",
       "      <td>0.224677</td>\n",
       "    </tr>\n",
       "    <tr>\n",
       "      <th>3</th>\n",
       "      <th>N</th>\n",
       "      <td>0.002060</td>\n",
       "      <td>1.000000</td>\n",
       "      <td>0.024463</td>\n",
       "    </tr>\n",
       "    <tr>\n",
       "      <th>4</th>\n",
       "      <th>O</th>\n",
       "      <td>0.027060</td>\n",
       "      <td>1.000000</td>\n",
       "      <td>0.321339</td>\n",
       "    </tr>\n",
       "    <tr>\n",
       "      <th>5</th>\n",
       "      <th>Al</th>\n",
       "      <td>0.003930</td>\n",
       "      <td>0.299542</td>\n",
       "      <td>0.046669</td>\n",
       "    </tr>\n",
       "    <tr>\n",
       "      <th>...</th>\n",
       "      <th>...</th>\n",
       "      <th>...</th>\n",
       "      <td>...</td>\n",
       "      <td>...</td>\n",
       "      <td>...</td>\n",
       "    </tr>\n",
       "    <tr>\n",
       "      <th>M74</th>\n",
       "      <th>1</th>\n",
       "      <th>Zr</th>\n",
       "      <td>0.000001</td>\n",
       "      <td>0.000020</td>\n",
       "      <td>0.000020</td>\n",
       "    </tr>\n",
       "    <tr>\n",
       "      <th rowspan=\"3\" valign=\"top\">M8</th>\n",
       "      <th rowspan=\"3\" valign=\"top\">1</th>\n",
       "      <th>Be</th>\n",
       "      <td>0.002970</td>\n",
       "      <td>0.034219</td>\n",
       "      <td>0.034219</td>\n",
       "    </tr>\n",
       "    <tr>\n",
       "      <th>Cu</th>\n",
       "      <td>0.082000</td>\n",
       "      <td>0.944769</td>\n",
       "      <td>0.944769</td>\n",
       "    </tr>\n",
       "    <tr>\n",
       "      <th>Ni</th>\n",
       "      <td>0.001824</td>\n",
       "      <td>0.021012</td>\n",
       "      <td>0.021012</td>\n",
       "    </tr>\n",
       "    <tr>\n",
       "      <th>M9</th>\n",
       "      <th>1</th>\n",
       "      <th>Be</th>\n",
       "      <td>0.123619</td>\n",
       "      <td>1.000000</td>\n",
       "      <td>1.000000</td>\n",
       "    </tr>\n",
       "  </tbody>\n",
       "</table>\n",
       "<p>161 rows × 3 columns</p>\n",
       "</div>"
      ],
      "text/plain": [
       "                              Fraction  Sub-Material Fraction  \\\n",
       "Material Submaterial Element                                    \n",
       "M1       1           H        0.021630               1.000000   \n",
       "         2           C        0.018920               1.000000   \n",
       "         3           N        0.002060               1.000000   \n",
       "         4           O        0.027060               1.000000   \n",
       "         5           Al       0.003930               0.299542   \n",
       "...                                ...                    ...   \n",
       "M74      1           Zr       0.000001               0.000020   \n",
       "M8       1           Be       0.002970               0.034219   \n",
       "                     Cu       0.082000               0.944769   \n",
       "                     Ni       0.001824               0.021012   \n",
       "M9       1           Be       0.123619               1.000000   \n",
       "\n",
       "                              Material Fraction  \n",
       "Material Submaterial Element                     \n",
       "M1       1           H                 0.256858  \n",
       "         2           C                 0.224677  \n",
       "         3           N                 0.024463  \n",
       "         4           O                 0.321339  \n",
       "         5           Al                0.046669  \n",
       "...                                         ...  \n",
       "M74      1           Zr                0.000020  \n",
       "M8       1           Be                0.034219  \n",
       "                     Cu                0.944769  \n",
       "                     Ni                0.021012  \n",
       "M9       1           Be                1.000000  \n",
       "\n",
       "[161 rows x 3 columns]"
      ]
     },
     "execution_count": 9,
     "metadata": {},
     "output_type": "execute_result"
    }
   ],
   "source": [
    "# here the fraction used in the MCNP input (i.e. either mass or atom) is used\n",
    "df_submat"
   ]
  },
  {
   "cell_type": "code",
   "execution_count": 10,
   "metadata": {},
   "outputs": [
    {
     "data": {
      "text/html": [
       "<div>\n",
       "<style scoped>\n",
       "    .dataframe tbody tr th:only-of-type {\n",
       "        vertical-align: middle;\n",
       "    }\n",
       "\n",
       "    .dataframe tbody tr th {\n",
       "        vertical-align: top;\n",
       "    }\n",
       "\n",
       "    .dataframe thead th {\n",
       "        text-align: right;\n",
       "    }\n",
       "</style>\n",
       "<table border=\"1\" class=\"dataframe\">\n",
       "  <thead>\n",
       "    <tr style=\"text-align: right;\">\n",
       "      <th></th>\n",
       "      <th></th>\n",
       "      <th></th>\n",
       "      <th>Fraction</th>\n",
       "      <th>Sub-Material Fraction</th>\n",
       "      <th>Material Fraction</th>\n",
       "    </tr>\n",
       "    <tr>\n",
       "      <th>Material</th>\n",
       "      <th>Submaterial</th>\n",
       "      <th>Element</th>\n",
       "      <th></th>\n",
       "      <th></th>\n",
       "      <th></th>\n",
       "    </tr>\n",
       "  </thead>\n",
       "  <tbody>\n",
       "    <tr>\n",
       "      <th rowspan=\"5\" valign=\"top\">M1</th>\n",
       "      <th>1</th>\n",
       "      <th>H</th>\n",
       "      <td>-0.019046</td>\n",
       "      <td>1.000000</td>\n",
       "      <td>0.019046</td>\n",
       "    </tr>\n",
       "    <tr>\n",
       "      <th>2</th>\n",
       "      <th>C</th>\n",
       "      <td>-0.198524</td>\n",
       "      <td>1.000000</td>\n",
       "      <td>0.198524</td>\n",
       "    </tr>\n",
       "    <tr>\n",
       "      <th>3</th>\n",
       "      <th>N</th>\n",
       "      <td>-0.025207</td>\n",
       "      <td>1.000000</td>\n",
       "      <td>0.025207</td>\n",
       "    </tr>\n",
       "    <tr>\n",
       "      <th>4</th>\n",
       "      <th>O</th>\n",
       "      <td>-0.378226</td>\n",
       "      <td>1.000000</td>\n",
       "      <td>0.378226</td>\n",
       "    </tr>\n",
       "    <tr>\n",
       "      <th>5</th>\n",
       "      <th>Al</th>\n",
       "      <td>-0.092636</td>\n",
       "      <td>0.294839</td>\n",
       "      <td>0.092636</td>\n",
       "    </tr>\n",
       "    <tr>\n",
       "      <th>...</th>\n",
       "      <th>...</th>\n",
       "      <th>...</th>\n",
       "      <td>...</td>\n",
       "      <td>...</td>\n",
       "      <td>...</td>\n",
       "    </tr>\n",
       "    <tr>\n",
       "      <th>M74</th>\n",
       "      <th>1</th>\n",
       "      <th>Zr</th>\n",
       "      <td>-0.000010</td>\n",
       "      <td>0.000010</td>\n",
       "      <td>0.000010</td>\n",
       "    </tr>\n",
       "    <tr>\n",
       "      <th rowspan=\"3\" valign=\"top\">M8</th>\n",
       "      <th rowspan=\"3\" valign=\"top\">1</th>\n",
       "      <th>Be</th>\n",
       "      <td>-0.005008</td>\n",
       "      <td>0.005008</td>\n",
       "      <td>0.005008</td>\n",
       "    </tr>\n",
       "    <tr>\n",
       "      <th>Cu</th>\n",
       "      <td>-0.974957</td>\n",
       "      <td>0.974957</td>\n",
       "      <td>0.974957</td>\n",
       "    </tr>\n",
       "    <tr>\n",
       "      <th>Ni</th>\n",
       "      <td>-0.020035</td>\n",
       "      <td>0.020035</td>\n",
       "      <td>0.020035</td>\n",
       "    </tr>\n",
       "    <tr>\n",
       "      <th>M9</th>\n",
       "      <th>1</th>\n",
       "      <th>Be</th>\n",
       "      <td>-1.000000</td>\n",
       "      <td>1.000000</td>\n",
       "      <td>1.000000</td>\n",
       "    </tr>\n",
       "  </tbody>\n",
       "</table>\n",
       "<p>161 rows × 3 columns</p>\n",
       "</div>"
      ],
      "text/plain": [
       "                              Fraction  Sub-Material Fraction  \\\n",
       "Material Submaterial Element                                    \n",
       "M1       1           H       -0.019046               1.000000   \n",
       "         2           C       -0.198524               1.000000   \n",
       "         3           N       -0.025207               1.000000   \n",
       "         4           O       -0.378226               1.000000   \n",
       "         5           Al      -0.092636               0.294839   \n",
       "...                                ...                    ...   \n",
       "M74      1           Zr      -0.000010               0.000010   \n",
       "M8       1           Be      -0.005008               0.005008   \n",
       "                     Cu      -0.974957               0.974957   \n",
       "                     Ni      -0.020035               0.020035   \n",
       "M9       1           Be      -1.000000               1.000000   \n",
       "\n",
       "                              Material Fraction  \n",
       "Material Submaterial Element                     \n",
       "M1       1           H                 0.019046  \n",
       "         2           C                 0.198524  \n",
       "         3           N                 0.025207  \n",
       "         4           O                 0.378226  \n",
       "         5           Al                0.092636  \n",
       "...                                         ...  \n",
       "M74      1           Zr                0.000010  \n",
       "M8       1           Be                0.005008  \n",
       "                     Cu                0.974957  \n",
       "                     Ni                0.020035  \n",
       "M9       1           Be                1.000000  \n",
       "\n",
       "[161 rows x 3 columns]"
      ]
     },
     "execution_count": 10,
     "metadata": {},
     "output_type": "execute_result"
    }
   ],
   "source": [
    "# switch from atom to mass fraction for all materials\n",
    "inp2 = deepcopy(inp)\n",
    "\n",
    "# MaterialSection is implemented as a Sequence, hence, it can be iterated\n",
    "for material in inp2.materials:\n",
    "    material.switch_fraction('mass', libmanager)\n",
    "\n",
    "# verify the change, this time get also the different zaid contribution\n",
    "df_mat, df_submat = inp2.materials.get_info(libmanager, zaids=True)\n",
    "df_submat"
   ]
  },
  {
   "cell_type": "code",
   "execution_count": 11,
   "metadata": {},
   "outputs": [
    {
     "data": {
      "text/html": [
       "<div>\n",
       "<style scoped>\n",
       "    .dataframe tbody tr th:only-of-type {\n",
       "        vertical-align: middle;\n",
       "    }\n",
       "\n",
       "    .dataframe tbody tr th {\n",
       "        vertical-align: top;\n",
       "    }\n",
       "\n",
       "    .dataframe thead th {\n",
       "        text-align: right;\n",
       "    }\n",
       "</style>\n",
       "<table border=\"1\" class=\"dataframe\">\n",
       "  <thead>\n",
       "    <tr style=\"text-align: right;\">\n",
       "      <th></th>\n",
       "      <th></th>\n",
       "      <th></th>\n",
       "      <th></th>\n",
       "      <th>Atom Fraction</th>\n",
       "      <th>Mass Fraction</th>\n",
       "    </tr>\n",
       "    <tr>\n",
       "      <th>Material</th>\n",
       "      <th>Submaterial</th>\n",
       "      <th>Element</th>\n",
       "      <th>Isotope</th>\n",
       "      <th></th>\n",
       "      <th></th>\n",
       "    </tr>\n",
       "  </thead>\n",
       "  <tbody>\n",
       "    <tr>\n",
       "      <th rowspan=\"5\" valign=\"top\">M1</th>\n",
       "      <th rowspan=\"2\" valign=\"top\">1</th>\n",
       "      <th rowspan=\"2\" valign=\"top\">H</th>\n",
       "      <th>H-1 [1001]</th>\n",
       "      <td>0.256828</td>\n",
       "      <td>-0.019042</td>\n",
       "    </tr>\n",
       "    <tr>\n",
       "      <th>H-2 [1002]</th>\n",
       "      <td>0.000030</td>\n",
       "      <td>-0.000004</td>\n",
       "    </tr>\n",
       "    <tr>\n",
       "      <th rowspan=\"2\" valign=\"top\">2</th>\n",
       "      <th rowspan=\"2\" valign=\"top\">C</th>\n",
       "      <th>C-12 [6012]</th>\n",
       "      <td>0.222273</td>\n",
       "      <td>-0.196224</td>\n",
       "    </tr>\n",
       "    <tr>\n",
       "      <th>C-13 [6013]</th>\n",
       "      <td>0.002404</td>\n",
       "      <td>-0.002300</td>\n",
       "    </tr>\n",
       "    <tr>\n",
       "      <th>3</th>\n",
       "      <th>N</th>\n",
       "      <th>N-14 [7014]</th>\n",
       "      <td>0.024374</td>\n",
       "      <td>-0.025109</td>\n",
       "    </tr>\n",
       "    <tr>\n",
       "      <th>...</th>\n",
       "      <th>...</th>\n",
       "      <th>...</th>\n",
       "      <th>...</th>\n",
       "      <td>...</td>\n",
       "      <td>...</td>\n",
       "    </tr>\n",
       "    <tr>\n",
       "      <th rowspan=\"5\" valign=\"top\">M74</th>\n",
       "      <th rowspan=\"5\" valign=\"top\">1</th>\n",
       "      <th rowspan=\"5\" valign=\"top\">W</th>\n",
       "      <th>W-180 [74180]</th>\n",
       "      <td>0.001196</td>\n",
       "      <td>-0.001174</td>\n",
       "    </tr>\n",
       "    <tr>\n",
       "      <th>W-182 [74182]</th>\n",
       "      <td>0.264161</td>\n",
       "      <td>-0.262157</td>\n",
       "    </tr>\n",
       "    <tr>\n",
       "      <th>W-183 [74183]</th>\n",
       "      <td>0.142647</td>\n",
       "      <td>-0.142344</td>\n",
       "    </tr>\n",
       "    <tr>\n",
       "      <th>W-184 [74184]</th>\n",
       "      <td>0.305429</td>\n",
       "      <td>-0.306448</td>\n",
       "    </tr>\n",
       "    <tr>\n",
       "      <th>W-186 [74186]</th>\n",
       "      <td>0.283399</td>\n",
       "      <td>-0.287442</td>\n",
       "    </tr>\n",
       "  </tbody>\n",
       "</table>\n",
       "<p>506 rows × 2 columns</p>\n",
       "</div>"
      ],
      "text/plain": [
       "                                            Atom Fraction  Mass Fraction\n",
       "Material Submaterial Element Isotope                                    \n",
       "M1       1           H       H-1 [1001]          0.256828      -0.019042\n",
       "                             H-2 [1002]          0.000030      -0.000004\n",
       "         2           C       C-12 [6012]         0.222273      -0.196224\n",
       "                             C-13 [6013]         0.002404      -0.002300\n",
       "         3           N       N-14 [7014]         0.024374      -0.025109\n",
       "...                                                   ...            ...\n",
       "M74      1           W       W-180 [74180]       0.001196      -0.001174\n",
       "                             W-182 [74182]       0.264161      -0.262157\n",
       "                             W-183 [74183]       0.142647      -0.142344\n",
       "                             W-184 [74184]       0.305429      -0.306448\n",
       "                             W-186 [74186]       0.283399      -0.287442\n",
       "\n",
       "[506 rows x 2 columns]"
      ]
     },
     "execution_count": 11,
     "metadata": {},
     "output_type": "execute_result"
    }
   ],
   "source": [
    "# the zaids are print only in the df_mat when requested\n",
    "df_mat"
   ]
  },
  {
   "attachments": {},
   "cell_type": "markdown",
   "metadata": {},
   "source": [
    "#### Translation of the material card to different libraries"
   ]
  },
  {
   "cell_type": "code",
   "execution_count": 12,
   "metadata": {},
   "outputs": [
    {
     "name": "stdout",
     "output_type": "stream",
     "text": [
      "All translated to 81c:\n",
      "c -------------------------------------------------------------------\n",
      "M8\n",
      "c   Cu-Be-Ni:  t.a.d. = 8.6794e-002\n",
      "      28058.31c       -1.337648E-2     $        AB(%)     \n",
      "      28060.31c       -5.346947E-3     $        AB(%)     \n",
      "      28061.31c       -2.697346E-4     $        AB(%)     \n",
      "      28062.31c       -7.802716E-4     $        AB(%)     \n",
      "      28064.31c       -2.612322E-4     $        AB(%)     \n",
      "      29063.31c       -6.676429E-1     $        AB(%)     \n",
      "      29065.31c       -3.073144E-1     $        AB(%)     \n",
      "       4009.31c       -5.008062E-3     $        AB(%)     \n",
      "\t plib=84p\n",
      "\n",
      "Specified library for each isotope:\n",
      "c -------------------------------------------------------------------\n",
      "M8\n",
      "c   Cu-Be-Ni:  t.a.d. = 8.6794e-002\n",
      "      28058.31c       -1.337648E-2     $        AB(%)     \n",
      "      28060.31c       -5.346947E-3     $        AB(%)     \n",
      "      28061.80c       -2.697346E-4     $        AB(%)     \n",
      "      28062.31c       -7.802716E-4     $        AB(%)     \n",
      "      28064.31c       -2.612322E-4     $        AB(%)     \n",
      "      29063.31c       -6.676429E-1     $        AB(%)     \n",
      "      29065.31c       -3.073144E-1     $        AB(%)     \n",
      "       4009.80c       -5.008062E-3     $        AB(%)     \n",
      "\t plib=84p\n",
      "\n",
      "Different libraries based on original one:\n",
      "c -------------------------------------------------------------------\n",
      "M8\n",
      "c   Cu-Be-Ni:  t.a.d. = 8.6794e-002\n",
      "      28058.30c       -1.337648E-2     $        AB(%)     \n",
      "      28060.30c       -5.346947E-3     $        AB(%)     \n",
      "      28061.31c       -2.697346E-4     $        AB(%)     \n",
      "      28062.30c       -7.802716E-4     $        AB(%)     \n",
      "      28064.30c       -2.612322E-4     $        AB(%)     \n",
      "      29063.30c       -6.676429E-1     $        AB(%)     \n",
      "      29065.30c       -3.073144E-1     $        AB(%)     \n",
      "       4009.31c       -5.008062E-3     $        AB(%)     \n",
      "\t plib=84p\n"
     ]
    }
   ],
   "source": [
    "# --- Change library for all materials ---\n",
    "inp2.translate('31c', libmanager)\n",
    "print('All translated to 81c:')\n",
    "print(inp2.materials['M8'].to_text())\n",
    "\n",
    "# --- specify a library for every zaid ---\n",
    "special_zaids = ['4009', '28061']  # to be translated to specific library\n",
    "non_special = []\n",
    "for material in inp2.materials:\n",
    "    for submaterial in material.submaterials:\n",
    "        for zaid in submaterial.zaidList:\n",
    "            zaid_str = zaid.element+zaid.isotope\n",
    "            if zaid_str not in special_zaids:\n",
    "                non_special.append(zaid_str)\n",
    "\n",
    "inp2.translate({'80c': special_zaids, '31c': non_special}, libmanager)\n",
    "print('\\nSpecified library for each isotope:')\n",
    "print(inp2.materials['M8'].to_text())\n",
    "\n",
    "# --- specify different libraries depending on the original one ---\n",
    "# this can be useful when D1S libraries only have to be changed for instance\n",
    "libs = {'31c': '30c', '80c': '31c'}\n",
    "inp2.translate(libs, libmanager)\n",
    "print('\\nDifferent libraries based on original one:')\n",
    "print(inp2.materials['M8'].to_text())"
   ]
  },
  {
   "attachments": {},
   "cell_type": "markdown",
   "metadata": {},
   "source": [
    "#### Generate new materials from existing ones"
   ]
  },
  {
   "cell_type": "code",
   "execution_count": 13,
   "metadata": {},
   "outputs": [
    {
     "name": "stdout",
     "output_type": "stream",
     "text": [
      "C Material: M2 Percentage: 20.0% (mass)\n",
      "C Material: M74 Percentage: 80.0% (mass)\n",
      "M1\n",
      "c  -----------------------------------------------------------------\n",
      "C           o-------------------------------------------------------o\n",
      "c           |    Copper                                             |\n",
      "c           |    t.a.d. =   8.29204E-02                        M2   |\n",
      "C           o-------------------------------------------------------o\n",
      "c\n",
      "C M2, submaterial 1\n",
      "      29063.31c       -1.369585E-1     $ Cu-63  AB(%) 68.479\n",
      "      29065.31c       -6.304150E-2     $ Cu-65  AB(%) 31.521\n",
      "c\n",
      "C M74, submaterial 1\n",
      "      13027.31c       -1.201453E-5     $ Al-27  AB(%) 100.0\n",
      "       6012.31c       -2.349665E-5     $ C-12   AB(%) 98.842\n",
      "       6013.31c       -2.753824E-7     $ C-13   AB(%) 1.1584\n",
      "      20040.31c       -7.742686E-6     $ Ca-40  AB(%) 96.662\n",
      "      20042.31c       -5.425701E-8     $ Ca-42  AB(%) 0.67736\n",
      "      20043.31c       -1.159086E-8     $ Ca-43  AB(%) 0.1447\n",
      "      20044.31c       -1.832560E-7     $ Ca-44  AB(%) 2.2878\n",
      "      20046.31c      -3.673774E-10     $ Ca-46  AB(%) 0.0045864\n",
      "      20048.31c       -1.792187E-8     $ Ca-48  AB(%) 0.22374\n",
      "      27059.31c       -8.009724E-6     $ Co-59  AB(%) 100.0\n",
      "      24050.31c       -3.342998E-7     $ Cr-50  AB(%) 4.1737\n",
      "      24052.31c       -6.704119E-6     $ Cr-52  AB(%) 83.699\n",
      "      24053.31c       -7.748249E-7     $ Cr-53  AB(%) 9.6735\n",
      "      24054.31c       -1.965054E-7     $ Cr-54  AB(%) 2.4533\n",
      "      29063.31c       -5.486584E-6     $ Cu-63  AB(%) 68.499\n",
      "      29065.31c       -2.523103E-6     $ Cu-65  AB(%) 31.501\n",
      "      26054.31c       -1.356578E-6     $ Fe-54  AB(%) 5.6456\n",
      "      26056.31c       -2.208314E-5     $ Fe-56  AB(%) 91.902\n",
      "      26057.31c       -5.191164E-7     $ Fe-57  AB(%) 2.1604\n",
      "      26058.31c       -7.029536E-8     $ Fe-58  AB(%) 0.29254\n",
      "       1001.31c       -4.003929E-6     $ H-1    AB(%) 99.977\n",
      "       1002.31c      -9.203023E-10     $ H-2    AB(%) 0.02298\n",
      "      19039.31c       -7.443313E-6     $ K-39   AB(%) 92.937\n",
      "      19040.31c      -9.577965E-10     $ K-40   AB(%) 0.011959\n",
      "      19041.31c       -5.647107E-7     $ K-41   AB(%) 7.051\n",
      "      12024.31c       -3.121783E-6     $ Mg-24  AB(%) 77.95\n",
      "      12025.31c       -4.117021E-7     $ Mg-25  AB(%) 10.28\n",
      "      12026.31c       -4.713673E-7     $ Mg-26  AB(%) 11.77\n",
      "      25055.31c       -4.004868E-6     $ Mn-55  AB(%) 100.0\n",
      "      42092.31c       -1.138774E-5     $ Mo-92  AB(%) 14.217\n",
      "      42094.31c       -7.252501E-6     $ Mo-94  AB(%) 9.0546\n",
      "      42095.31c       -1.261515E-5     $ Mo-95  AB(%) 15.75\n",
      "      42096.31c       -1.335646E-5     $ Mo-96  AB(%) 16.675\n",
      "      42097.31c       -7.726974E-6     $ Mo-97  AB(%) 9.647\n",
      "      42098.31c       -1.972517E-5     $ Mo-98  AB(%) 24.627\n",
      "      42100.31c       -8.033012E-6     $ Mo-100 AB(%) 10.029\n",
      "       7014.31c       -7.978127E-6     $ N-14   AB(%) 99.602\n",
      "       7015.31c       -3.188774E-8     $ N-15   AB(%) 0.3981\n",
      "      11023.31c       -8.009689E-6     $ Na-23  AB(%) 100.0\n",
      "      41093.31c       -8.009716E-6     $ Nb-93  AB(%) 100.0\n",
      "      28058.31c       -1.076462E-5     $ Ni-58  AB(%) 67.198\n",
      "      28060.31c       -4.289338E-6     $ Ni-60  AB(%) 26.776\n",
      "      28061.31c       -1.895663E-7     $ Ni-61  AB(%) 1.1834\n",
      "      28062.31c       -6.143145E-7     $ Ni-62  AB(%) 3.8348\n",
      "      28064.31c       -1.614991E-7     $ Ni-64  AB(%) 1.0082\n",
      "       8016.31c       -2.390572E-5     $ O-16   AB(%) 99.729\n",
      "       8017.31c       -9.678044E-9     $ O-17   AB(%) 0.040375\n",
      "       8018.31c       -5.528194E-8     $ O-18   AB(%) 0.23062\n",
      "      15031.31c       -4.004808E-5     $ P-31   AB(%) 100.0\n",
      "      82204.31c       -1.088356E-7     $ Pb-204 AB(%) 1.3781\n",
      "      82206.31c       -1.891913E-6     $ Pb-206 AB(%) 23.956\n",
      "      82207.31c       -1.743340E-6     $ Pb-207 AB(%) 22.074\n",
      "      82208.31c       -4.153525E-6     $ Pb-208 AB(%) 52.592\n",
      "      16032.31c       -3.793265E-6     $ S-32   AB(%) 94.715\n",
      "      16033.31c       -3.088613E-8     $ S-33   AB(%) 0.77121\n",
      "      16034.31c       -1.803114E-7     $ S-34   AB(%) 4.5023\n",
      "      16036.31c      -4.492321E-10     $ S-36   AB(%) 0.011217\n",
      "      14028.31c       -1.471739E-5     $ Si-28  AB(%) 91.874\n",
      "      14029.31c       -7.740048E-7     $ Si-29  AB(%) 4.8317\n",
      "      14030.31c       -5.277873E-7     $ Si-30  AB(%) 3.2947\n",
      "      73181.31c       -8.009681E-6     $ Ta-181 AB(%) 100.0\n",
      "      22046.31c       -6.343764E-7     $ Ti-46  AB(%) 7.9226\n",
      "      22047.31c       -5.845310E-7     $ Ti-47  AB(%) 7.3001\n",
      "      22048.31c       -5.912271E-6     $ Ti-48  AB(%) 73.837\n",
      "      22049.31c       -4.431130E-7     $ Ti-49  AB(%) 5.5339\n",
      "      22050.31c       -4.329136E-7     $ Ti-50  AB(%) 5.4066\n",
      "      40090.31c       -4.060946E-6     $ Zr-90  AB(%) 50.706\n",
      "      40091.31c       -8.954570E-7     $ Zr-91  AB(%) 11.181\n",
      "      40092.31c       -1.383769E-6     $ Zr-92  AB(%) 17.278\n",
      "      40094.31c       -1.432863E-6     $ Zr-94  AB(%) 17.891\n",
      "      40096.31c       -2.357623E-7     $ Zr-96  AB(%) 2.9438\n",
      "      74180.31c       -9.392522E-4     $ W-180  AB(%) 0.11746\n",
      "      74182.31c       -2.097256E-1     $ W-182  AB(%) 26.227\n",
      "      74183.31c       -1.138753E-1     $ W-183  AB(%) 14.241\n",
      "      74184.31c       -2.451585E-1     $ W-184  AB(%) 30.658\n",
      "      74186.31c       -2.299535E-1     $ W-186  AB(%) 28.757\n"
     ]
    }
   ],
   "source": [
    "# Generate a new material as a composition of existing ones\n",
    "# The percentages are intended in mass if the fraction is to be expressed in\n",
    "# mass or in atom otherwise. The new material is created as 'M1'\n",
    "new_mat = inp2.materials.generate_material(['m2', 'm74'],\n",
    "                                           [0.2, 0.8],\n",
    "                                           '31c', libmanager,\n",
    "                                           fractiontype='mass')\n",
    "print(new_mat.to_text())"
   ]
  },
  {
   "cell_type": "markdown",
   "metadata": {},
   "source": [
    "#### Generate a material from a list of zaids or elements"
   ]
  },
  {
   "cell_type": "markdown",
   "metadata": {},
   "source": [
    "it is also possible to generate a material from a list of zaids. If the \"natural zaids\" notation is used, the elements are expanded automatically as shown in the following example."
   ]
  },
  {
   "cell_type": "code",
   "execution_count": 14,
   "metadata": {},
   "outputs": [
    {
     "name": "stdout",
     "output_type": "stream",
     "text": [
      "C header of the material\n",
      "M1\n",
      "       1001.31c       -4.698638E+0     $ H-1    AB(%) 99.971\n",
      "       1002.31c       -1.361756E-3     $ H-2    AB(%) 0.028974\n",
      "       5010.31c       -5.531343E+0     $ B-10   AB(%) 18.195\n",
      "       5011.31c       -2.486866E+1     $ B-11   AB(%) 81.805\n",
      "       6012.31c       -2.797523E+1     $ C-12   AB(%) 98.852\n",
      "       6013.31c       -3.247744E-1     $ C-13   AB(%) 1.1476\n",
      "      11023.31c       -3.200000E+0     $ Na-23  AB(%) 100.0\n",
      "      16032.31c       -3.130391E+1     $ S-32   AB(%) 94.574\n",
      "      16033.31c       -2.596888E-1     $ S-33   AB(%) 0.78456\n",
      "      16034.31c       -1.530534E+0     $ S-34   AB(%) 4.624\n",
      "      16036.31c       -5.866145E-3     $ S-36   AB(%) 0.017722\n",
      "      14028.31c       -5.513970E-2     $ Si-28  AB(%) 91.899\n",
      "      14029.31c       -2.892181E-3     $ Si-29  AB(%) 4.8203\n",
      "      14030.31c       -1.968119E-3     $ Si-30  AB(%) 3.2802\n",
      "      26054.31c       -4.516447E-3     $ Fe-54  AB(%) 5.6456\n",
      "      26056.31c       -7.352122E-2     $ Fe-56  AB(%) 91.902\n",
      "      26057.31c       -1.728295E-3     $ Fe-57  AB(%) 2.1604\n",
      "      26058.31c       -2.340355E-4     $ Fe-58  AB(%) 0.29254\n",
      "       7014.31c       -3.983744E-1     $ N-14   AB(%) 99.594\n",
      "       7015.31c       -1.625644E-3     $ N-15   AB(%) 0.40641\n"
     ]
    }
   ],
   "source": [
    "from f4enix.input.materials import Material\n",
    "from f4enix.input.libmanager import LibManager\n",
    "\n",
    "libman = LibManager()  # always needed when libraries are involved\n",
    "zaids = [(1000, -4.7), (5000, -30.4), (6000, -28.3), (11000, -3.2),\n",
    "         (16000, -33.1), (14000, -0.06), (26000, -0.08), (7000, -0.4)]\n",
    "newmat = Material.from_zaids(zaids, libman, '31c', 'header of the material')\n",
    "print(newmat.to_text())"
   ]
  },
  {
   "cell_type": "markdown",
   "metadata": {},
   "source": [
    "The elements/zaids to be added can be specified with the zaid number but also using their formula as shown below"
   ]
  },
  {
   "cell_type": "code",
   "execution_count": 35,
   "metadata": {},
   "outputs": [
    {
     "name": "stdout",
     "output_type": "stream",
     "text": [
      "C header of the material\n",
      "M1\n",
      "       1001.31c       -1.000000E+2     $ H-1    AB(%) 100.0\n",
      "       5010.31c       -3.639041E+1     $ B-10   AB(%) 18.195\n",
      "       5011.31c       -1.636096E+2     $ B-11   AB(%) 81.805\n",
      "       6012.31c       -5.000000E+1     $ C-12   AB(%) 100.0\n"
     ]
    }
   ],
   "source": [
    "zaids = [('1001', -100), ('B-0', -200), ('C-12', -50)]\n",
    "newmat = Material.from_zaids(zaids, libman, '31c', 'header of the material')\n",
    "print(newmat.to_text())"
   ]
  },
  {
   "attachments": {},
   "cell_type": "markdown",
   "metadata": {},
   "source": [
    "### Miscellanous"
   ]
  },
  {
   "attachments": {},
   "cell_type": "markdown",
   "metadata": {},
   "source": [
    "Another capability implemented in the MCNP inputs is the possibility to **extract a minimum working MCNP input given a set of cells**. All transformation cards, surfaces, universes and material cards related to these cells will also be extracted. Cell definitions using the # operator are also supported."
   ]
  },
  {
   "cell_type": "code",
   "execution_count": 16,
   "metadata": {},
   "outputs": [
    {
     "name": "stdout",
     "output_type": "stream",
     "text": [
      "ITER 1D\n",
      "36   7   1.0028e-001  -55 56  12 -13     imp:n,p=32\n",
      "34   7   1.0028e-001  -55 56  10 -11     imp:n,p=64\n",
      "35   11  8.5299e-002  -55 56  11 -12     imp:n,p=32\n",
      "\n",
      "10   cz 447.9 \n",
      "11   cz 451   \n",
      "12   cz 455.2 \n",
      "13   cz 458.2 \n",
      "*55   pz  1000.0\n",
      "*56   pz -1000.0\n",
      "\n",
      "c ------------------------------------------------------------------\n",
      "C           o-------------------------------------------------------o\n",
      "c           |    H2O                    \n",
      "c           |                                                       |\n",
      "c           |                                                       |\n",
      "c           |    t.a.d. =   1.0028e-001                        M7   |\n",
      "C           o-------------------------------------------------------o\n",
      "c     \n",
      "M7\n",
      "       1001.31c        6.684830E-2     $ H-1    AB(%) 99.988\n",
      "       1002.31c        7.688440E-6     $ H-2    AB(%) 0.0115\n",
      "c         8016.70c 3.34280E-02  $ O        (nat.)\n",
      "       8016.31c        3.334680E-2     $ O-16   AB(%) 99.757\n",
      "       8017.31c        1.270260E-5     $ O-17   AB(%) 0.038\n",
      "       8018.31c        6.852740E-5     $ O-18   AB(%) 0.205\n",
      "\t plib=84p\n",
      "c ------------------------------------------------------------------\n",
      "c           o-------------------------------------------------------o\n",
      "C           |     S.S. 316L(N)-IG.....100 %                         |   \n",
      "c           |                                                       | \n",
      "c           |     t.a.d.  = 8.5299e-002                       M11   |\n",
      "C           o-------------------------------------------------------o\n",
      "c\n",
      "c\n",
      "M11\n",
      "       5010.31c        8.707160E-7     $ B-10   AB(%) 19.9\n",
      "       5011.31c        3.504740E-6     $ B-11   AB(%) 80.1\n",
      "c         6012.21c 7.08895E-05  $ C    (nat.)\n",
      "       6012.31c        7.013100E-5     $ C-12   AB(%) 98.93\n",
      "       6013.31c        7.585180E-7     $ C-13   AB(%) 1.07\n",
      "c         7014.21c 2.36402E-04  $ N    (nat.)\n",
      "       7014.31c        2.355410E-4     $ N-14   AB(%) 99.636\n",
      "       7015.31c        8.605030E-7     $ N-15   AB(%) 0.364\n",
      "c         8016.70c 5.89895E-06  $ O    (nat.)\n",
      "       8016.31c        5.884620E-6     $ O-16   AB(%) 99.757\n",
      "       8017.31c        2.241600E-9     $ O-17   AB(%) 0.038\n",
      "       8018.31c        1.209280E-8     $ O-18   AB(%) 0.205\n",
      "      13027.31c        5.259500E-4     $ Al-27  AB(%) 100.0\n",
      "      14028.31c        7.145600E-4     $ Si-28  AB(%) 92.23\n",
      "      14029.31c        3.628300E-5     $ Si-29  AB(%) 4.6831\n",
      "      14030.31c        2.391800E-5     $ Si-30  AB(%) 3.0871\n",
      "      15031.31c        3.970720E-5     $ P-31   AB(%) 100.0\n",
      "c        16000.21c 1.47526E-05  $ S    (nat.)\n",
      "      16032.31c        1.401790E-5     $ S-32   AB(%) 95.02\n",
      "      16033.31c        1.106450E-7     $ S-33   AB(%) 0.75\n",
      "      16034.31c        6.210840E-7     $ S-34   AB(%) 4.21\n",
      "      16036.31c        2.950520E-9     $ S-36   AB(%) 0.02\n",
      "c        19000.21c 6.04926E-07  $ K    (nat.)\n",
      "      19039.31c        5.641540E-7     $ K-39   AB(%) 93.26\n",
      "      19040.31c       6.049260E-11     $ K-40   AB(%) 0.01\n",
      "      19041.31c        4.071150E-8     $ K-41   AB(%) 6.73\n",
      "      22046.31c        3.260400E-6     $ Ti-46  AB(%) 8.2501\n",
      "      22047.31c        2.940200E-6     $ Ti-47  AB(%) 7.4398\n",
      "      22048.31c        2.913400E-5     $ Ti-48  AB(%) 73.72\n",
      "      22049.31c        2.138000E-6     $ Ti-49  AB(%) 5.41\n",
      "      22050.31c        2.047100E-6     $ Ti-50  AB(%) 5.1799\n",
      "c        23000.21c 3.71431E-06  $ V    (nat.)\n",
      "      23050.31c        9.285780E-9     $ V-50   AB(%) 0.25\n",
      "      23051.31c        3.705020E-6     $ V-51   AB(%) 99.75\n",
      "      24050.31c        6.689300E-4     $ Cr-50  AB(%) 4.2958\n",
      "      24052.31c        1.303600E-2     $ Cr-52  AB(%) 83.716\n",
      "      24053.31c        1.493400E-3     $ Cr-53  AB(%) 9.5905\n",
      "      24054.31c        3.733600E-4     $ Cr-54  AB(%) 2.3977\n",
      "      25055.31c        1.463750E-3     $ Mn-55  AB(%) 100.0\n",
      "      26054.31c        3.165200E-3     $ Fe-54  AB(%) 5.7999\n",
      "      26056.31c        5.004400E-2     $ Fe-56  AB(%) 91.7\n",
      "      26057.31c        1.200600E-3     $ Fe-57  AB(%) 2.2 \n",
      "      26058.31c        1.637200E-4     $ Fe-58  AB(%) 0.3 \n",
      "      27059.31c        2.407970E-5     $ Co-59  AB(%) 100.0\n",
      "      28058.31c        7.202200E-3     $ Ni-58  AB(%) 67.7\n",
      "      28060.31c        2.787300E-3     $ Ni-60  AB(%) 26.2\n",
      "      28061.31c        1.383000E-4     $ Ni-61  AB(%) 1.3 \n",
      "      28062.31c        3.829800E-4     $ Ni-62  AB(%) 3.6 \n",
      "      28064.31c        1.276600E-4     $ Ni-64  AB(%) 1.2 \n",
      "      29063.31c        5.147510E-5     $ Cu-63  AB(%) 69.15\n",
      "      29065.31c        2.296460E-5     $ Cu-65  AB(%) 30.85\n",
      "c        40000.21c 1.03708E-06  $ Zr-nat.\n",
      "      40090.31c        5.335780E-7     $ Zr-90  AB(%) 51.45\n",
      "      40091.31c        1.163600E-7     $ Zr-91  AB(%) 11.22\n",
      "      40092.31c        1.778590E-7     $ Zr-92  AB(%) 17.15\n",
      "      40094.31c        1.802450E-7     $ Zr-94  AB(%) 17.38\n",
      "      40096.31c        2.903820E-8     $ Zr-96  AB(%) 2.8 \n",
      "      41093.31c        1.018300E-6     $ Nb-93  AB(%) 100.0\n",
      "      42092.31c        1.829400E-4     $ Mo-92  AB(%) 14.84\n",
      "      42094.31c        1.140300E-4     $ Mo-94  AB(%) 9.2501\n",
      "      42095.31c        1.962500E-4     $ Mo-95  AB(%) 15.92\n",
      "      42096.31c        2.056200E-4     $ Mo-96  AB(%) 16.68\n",
      "      42097.31c        1.177300E-4     $ Mo-97  AB(%) 9.5503\n",
      "      42098.31c        2.974600E-4     $ Mo-98  AB(%) 24.13\n",
      "      42100.31c        1.187100E-4     $ Mo-100 AB(%) 9.6298\n",
      "c        50000.21c 7.96952E-07  $ Sn   (nat.)\n",
      "      50112.31c        7.730430E-9     $ Sn-112 AB(%) 0.97\n",
      "      50114.31c        5.259880E-9     $ Sn-114 AB(%) 0.66\n",
      "      50115.31c        2.709640E-9     $ Sn-115 AB(%) 0.34\n",
      "      50116.31c        1.158770E-7     $ Sn-116 AB(%) 14.54\n",
      "      50117.31c        6.120590E-8     $ Sn-117 AB(%) 7.68\n",
      "      50118.31c        1.930220E-7     $ Sn-118 AB(%) 24.22\n",
      "      50119.31c        6.845820E-8     $ Sn-119 AB(%) 8.59\n",
      "      50120.31c        2.596470E-7     $ Sn-120 AB(%) 32.58\n",
      "      50122.31c        3.689890E-8     $ Sn-122 AB(%) 4.63\n",
      "      50124.31c        4.614350E-8     $ Sn-124 AB(%) 5.79\n",
      "      73181.31c        1.307090E-7     $ Ta-181 AB(%) 100.0\n",
      "      74180.31c       3.083810E-10     $ W-180  AB(%) 0.12\n",
      "      74182.31c        6.810080E-8     $ W-182  AB(%) 26.5\n",
      "      74183.31c        3.677440E-8     $ W-183  AB(%) 14.31\n",
      "      74184.31c        7.873990E-8     $ W-184  AB(%) 30.64\n",
      "      74186.31c        7.306060E-8     $ W-186  AB(%) 28.43\n",
      "      82204.31c        2.556720E-9     $ Pb-204 AB(%) 1.4 \n",
      "      82206.31c        4.401210E-8     $ Pb-206 AB(%) 24.1\n",
      "      82207.31c        4.035970E-8     $ Pb-207 AB(%) 22.1\n",
      "      82208.31c        9.569450E-8     $ Pb-208 AB(%) 52.4\n",
      "      83209.31c        1.810820E-7     $ Bi-209 AB(%) 100.0\n",
      "\t plib=84p\n"
     ]
    }
   ],
   "source": [
    "cells_to_extract = [34, 35, 36]\n",
    "outfile = os.path.join(tempfile.gettempdir(), 'extracted.i')\n",
    "inp.extract_cells(cells_to_extract, outfile)\n",
    "\n",
    "with open(outfile, 'r') as infile:\n",
    "    for line in infile:\n",
    "        print(line.strip('\\n'))"
   ]
  },
  {
   "cell_type": "markdown",
   "metadata": {},
   "source": [
    "The extract_universe method allows the creation of a new MCNP input with the selected universe. The universe keywords will be erased from the cell definitions. "
   ]
  },
  {
   "cell_type": "code",
   "execution_count": 17,
   "metadata": {},
   "outputs": [],
   "source": [
    "inp_universes = Input.from_input(\"test_universe.i\")\n",
    "\n",
    "outfile = os.path.join(tempfile.gettempdir(), 'extracted_universe.i')\n",
    "inp_universes.extract_universe(125, outfile)"
   ]
  },
  {
   "attachments": {},
   "cell_type": "markdown",
   "metadata": {},
   "source": [
    "Or when producing a report, it can be useful to have a summary of the tallies defined in the input"
   ]
  },
  {
   "cell_type": "code",
   "execution_count": 18,
   "metadata": {},
   "outputs": [
    {
     "data": {
      "text/html": [
       "<div>\n",
       "<style scoped>\n",
       "    .dataframe tbody tr th:only-of-type {\n",
       "        vertical-align: middle;\n",
       "    }\n",
       "\n",
       "    .dataframe tbody tr th {\n",
       "        vertical-align: top;\n",
       "    }\n",
       "\n",
       "    .dataframe thead th {\n",
       "        text-align: right;\n",
       "    }\n",
       "</style>\n",
       "<table border=\"1\" class=\"dataframe\">\n",
       "  <thead>\n",
       "    <tr style=\"text-align: right;\">\n",
       "      <th></th>\n",
       "      <th>Particle</th>\n",
       "      <th>Description</th>\n",
       "      <th>Normalization</th>\n",
       "      <th>Other multipliers</th>\n",
       "    </tr>\n",
       "    <tr>\n",
       "      <th>Tally</th>\n",
       "      <th></th>\n",
       "      <th></th>\n",
       "      <th></th>\n",
       "      <th></th>\n",
       "    </tr>\n",
       "  </thead>\n",
       "  <tbody>\n",
       "    <tr>\n",
       "      <th>4</th>\n",
       "      <td>N</td>\n",
       "      <td>Neutrons Flux (energy binned) [#/cm^2]</td>\n",
       "      <td>1.222e21</td>\n",
       "      <td>&lt;NA&gt;</td>\n",
       "    </tr>\n",
       "    <tr>\n",
       "      <th>6</th>\n",
       "      <td>NP</td>\n",
       "      <td>Total Nuclear Heating [W/g]</td>\n",
       "      <td>1.9577e8</td>\n",
       "      <td>&lt;NA&gt;</td>\n",
       "    </tr>\n",
       "    <tr>\n",
       "      <th>14</th>\n",
       "      <td>P</td>\n",
       "      <td>Photons Flux (energy binned) [#/cm^2]</td>\n",
       "      <td>1.222e21</td>\n",
       "      <td>&lt;NA&gt;</td>\n",
       "    </tr>\n",
       "    <tr>\n",
       "      <th>16</th>\n",
       "      <td>N</td>\n",
       "      <td>Neutron Heating [W/g]</td>\n",
       "      <td>1.9577e8</td>\n",
       "      <td>&lt;NA&gt;</td>\n",
       "    </tr>\n",
       "    <tr>\n",
       "      <th>24</th>\n",
       "      <td>N</td>\n",
       "      <td>Fe dpa/FPY</td>\n",
       "      <td>3.8566e8</td>\n",
       "      <td>[16, 444]</td>\n",
       "    </tr>\n",
       "    <tr>\n",
       "      <th>26</th>\n",
       "      <td>P</td>\n",
       "      <td>Gamma Heating [W/g]</td>\n",
       "      <td>1.9577e8</td>\n",
       "      <td>&lt;NA&gt;</td>\n",
       "    </tr>\n",
       "    <tr>\n",
       "      <th>34</th>\n",
       "      <td>N</td>\n",
       "      <td>He in 316SS appm/FPY</td>\n",
       "      <td>3.8566e10</td>\n",
       "      <td>[11, (207:206)]</td>\n",
       "    </tr>\n",
       "    <tr>\n",
       "      <th>44</th>\n",
       "      <td>N</td>\n",
       "      <td>H in 316SS appm/FPY</td>\n",
       "      <td>3.8566e10</td>\n",
       "      <td>[11, (203:204:205)]</td>\n",
       "    </tr>\n",
       "    <tr>\n",
       "      <th>54</th>\n",
       "      <td>N</td>\n",
       "      <td>T in 316SS appm/FPY</td>\n",
       "      <td>3.8566e10</td>\n",
       "      <td>[11, 205]</td>\n",
       "    </tr>\n",
       "    <tr>\n",
       "      <th>64</th>\n",
       "      <td>N</td>\n",
       "      <td>Cu dpa/FPY</td>\n",
       "      <td>3.8566e8</td>\n",
       "      <td>[2, 444]</td>\n",
       "    </tr>\n",
       "    <tr>\n",
       "      <th>74</th>\n",
       "      <td>N</td>\n",
       "      <td>He in CuBeNi appm/FPY</td>\n",
       "      <td>3.8566e10</td>\n",
       "      <td>[8, (207:206)]</td>\n",
       "    </tr>\n",
       "    <tr>\n",
       "      <th>84</th>\n",
       "      <td>N</td>\n",
       "      <td>H in CuBeNi appm/FPY</td>\n",
       "      <td>3.8566e10</td>\n",
       "      <td>[8, (203:204:205)]</td>\n",
       "    </tr>\n",
       "    <tr>\n",
       "      <th>94</th>\n",
       "      <td>N</td>\n",
       "      <td>T in CuBeNi appm/FPY</td>\n",
       "      <td>3.8566e10</td>\n",
       "      <td>[8, 205]</td>\n",
       "    </tr>\n",
       "    <tr>\n",
       "      <th>104</th>\n",
       "      <td>N</td>\n",
       "      <td>Ni dpa/FPY</td>\n",
       "      <td>3.8566e8</td>\n",
       "      <td>[17, 444]</td>\n",
       "    </tr>\n",
       "    <tr>\n",
       "      <th>114</th>\n",
       "      <td>N</td>\n",
       "      <td>He in Inconel appm/FPY</td>\n",
       "      <td>3.8566e10</td>\n",
       "      <td>[12, (207:206)]</td>\n",
       "    </tr>\n",
       "    <tr>\n",
       "      <th>124</th>\n",
       "      <td>N</td>\n",
       "      <td>H in Inconel appm/FPY</td>\n",
       "      <td>3.8566e10</td>\n",
       "      <td>[12, (203:204:205)]</td>\n",
       "    </tr>\n",
       "    <tr>\n",
       "      <th>134</th>\n",
       "      <td>N</td>\n",
       "      <td>T in Inconel appm/FPY</td>\n",
       "      <td>3.8566e10</td>\n",
       "      <td>[12, 205]</td>\n",
       "    </tr>\n",
       "    <tr>\n",
       "      <th>144</th>\n",
       "      <td>N</td>\n",
       "      <td>He in Be appm/FPY</td>\n",
       "      <td>3.8566e10</td>\n",
       "      <td>[9, (207:206)]</td>\n",
       "    </tr>\n",
       "    <tr>\n",
       "      <th>154</th>\n",
       "      <td>N</td>\n",
       "      <td>H in Be appm/FPY</td>\n",
       "      <td>3.8566e10</td>\n",
       "      <td>[9, (203:204:205)]</td>\n",
       "    </tr>\n",
       "    <tr>\n",
       "      <th>164</th>\n",
       "      <td>N</td>\n",
       "      <td>T in Be appm/FPY</td>\n",
       "      <td>3.8566e10</td>\n",
       "      <td>[9, 205]</td>\n",
       "    </tr>\n",
       "    <tr>\n",
       "      <th>174</th>\n",
       "      <td>N</td>\n",
       "      <td>fast (E&gt;0.1 MeV) fluence at magnet n/cm2/FPY</td>\n",
       "      <td>3.8566e28</td>\n",
       "      <td>&lt;NA&gt;</td>\n",
       "    </tr>\n",
       "    <tr>\n",
       "      <th>204</th>\n",
       "      <td>N</td>\n",
       "      <td>Total Neutron Flux [#/cm^2]</td>\n",
       "      <td>1.222e21</td>\n",
       "      <td>&lt;NA&gt;</td>\n",
       "    </tr>\n",
       "    <tr>\n",
       "      <th>214</th>\n",
       "      <td>P</td>\n",
       "      <td>Total Photons Flux [#/cm^2]</td>\n",
       "      <td>1.222e21</td>\n",
       "      <td>&lt;NA&gt;</td>\n",
       "    </tr>\n",
       "  </tbody>\n",
       "</table>\n",
       "</div>"
      ],
      "text/plain": [
       "      Particle                                   Description Normalization  \\\n",
       "Tally                                                                        \n",
       "4            N        Neutrons Flux (energy binned) [#/cm^2]      1.222e21   \n",
       "6           NP                   Total Nuclear Heating [W/g]      1.9577e8   \n",
       "14           P         Photons Flux (energy binned) [#/cm^2]      1.222e21   \n",
       "16           N                         Neutron Heating [W/g]      1.9577e8   \n",
       "24           N                                    Fe dpa/FPY      3.8566e8   \n",
       "26           P                           Gamma Heating [W/g]      1.9577e8   \n",
       "34           N                          He in 316SS appm/FPY     3.8566e10   \n",
       "44           N                           H in 316SS appm/FPY     3.8566e10   \n",
       "54           N                           T in 316SS appm/FPY     3.8566e10   \n",
       "64           N                                    Cu dpa/FPY      3.8566e8   \n",
       "74           N                         He in CuBeNi appm/FPY     3.8566e10   \n",
       "84           N                          H in CuBeNi appm/FPY     3.8566e10   \n",
       "94           N                          T in CuBeNi appm/FPY     3.8566e10   \n",
       "104          N                                    Ni dpa/FPY      3.8566e8   \n",
       "114          N                        He in Inconel appm/FPY     3.8566e10   \n",
       "124          N                         H in Inconel appm/FPY     3.8566e10   \n",
       "134          N                         T in Inconel appm/FPY     3.8566e10   \n",
       "144          N                             He in Be appm/FPY     3.8566e10   \n",
       "154          N                              H in Be appm/FPY     3.8566e10   \n",
       "164          N                              T in Be appm/FPY     3.8566e10   \n",
       "174          N  fast (E>0.1 MeV) fluence at magnet n/cm2/FPY     3.8566e28   \n",
       "204          N                   Total Neutron Flux [#/cm^2]      1.222e21   \n",
       "214          P                   Total Photons Flux [#/cm^2]      1.222e21   \n",
       "\n",
       "         Other multipliers  \n",
       "Tally                       \n",
       "4                     <NA>  \n",
       "6                     <NA>  \n",
       "14                    <NA>  \n",
       "16                    <NA>  \n",
       "24               [16, 444]  \n",
       "26                    <NA>  \n",
       "34         [11, (207:206)]  \n",
       "44     [11, (203:204:205)]  \n",
       "54               [11, 205]  \n",
       "64                [2, 444]  \n",
       "74          [8, (207:206)]  \n",
       "84      [8, (203:204:205)]  \n",
       "94                [8, 205]  \n",
       "104              [17, 444]  \n",
       "114        [12, (207:206)]  \n",
       "124    [12, (203:204:205)]  \n",
       "134              [12, 205]  \n",
       "144         [9, (207:206)]  \n",
       "154     [9, (203:204:205)]  \n",
       "164               [9, 205]  \n",
       "174                   <NA>  \n",
       "204                   <NA>  \n",
       "214                   <NA>  "
      ]
     },
     "execution_count": 18,
     "metadata": {},
     "output_type": "execute_result"
    }
   ],
   "source": [
    "# Normal tallies\n",
    "inp.get_tally_summary()"
   ]
  },
  {
   "cell_type": "code",
   "execution_count": 19,
   "metadata": {},
   "outputs": [
    {
     "data": {
      "text/html": [
       "<div>\n",
       "<style scoped>\n",
       "    .dataframe tbody tr th:only-of-type {\n",
       "        vertical-align: middle;\n",
       "    }\n",
       "\n",
       "    .dataframe tbody tr th {\n",
       "        vertical-align: top;\n",
       "    }\n",
       "\n",
       "    .dataframe thead th {\n",
       "        text-align: right;\n",
       "    }\n",
       "</style>\n",
       "<table border=\"1\" class=\"dataframe\">\n",
       "  <thead>\n",
       "    <tr style=\"text-align: right;\">\n",
       "      <th></th>\n",
       "      <th>Particle</th>\n",
       "      <th>Description</th>\n",
       "      <th>Normalization</th>\n",
       "      <th>Other multipliers</th>\n",
       "    </tr>\n",
       "    <tr>\n",
       "      <th>Tally</th>\n",
       "      <th></th>\n",
       "      <th></th>\n",
       "      <th></th>\n",
       "      <th></th>\n",
       "    </tr>\n",
       "  </thead>\n",
       "  <tbody>\n",
       "    <tr>\n",
       "      <th>1004</th>\n",
       "      <td>N</td>\n",
       "      <td>Neutron Flux [#/cc/s]</td>\n",
       "      <td>1.222e21</td>\n",
       "      <td>&lt;NA&gt;</td>\n",
       "    </tr>\n",
       "    <tr>\n",
       "      <th>1024</th>\n",
       "      <td>P</td>\n",
       "      <td>Photon Flux [#/cc/s]</td>\n",
       "      <td>1.222e21</td>\n",
       "      <td>&lt;NA&gt;</td>\n",
       "    </tr>\n",
       "  </tbody>\n",
       "</table>\n",
       "</div>"
      ],
      "text/plain": [
       "      Particle            Description Normalization Other multipliers\n",
       "Tally                                                                \n",
       "1004         N  Neutron Flux [#/cc/s]      1.222e21              <NA>\n",
       "1024         P   Photon Flux [#/cc/s]      1.222e21              <NA>"
      ]
     },
     "execution_count": 19,
     "metadata": {},
     "output_type": "execute_result"
    }
   ],
   "source": [
    "# FMESHES\n",
    "inp.get_tally_summary(fmesh=True)"
   ]
  },
  {
   "cell_type": "code",
   "execution_count": 20,
   "metadata": {},
   "outputs": [
    {
     "data": {
      "text/html": [
       "<div>\n",
       "<style scoped>\n",
       "    .dataframe tbody tr th:only-of-type {\n",
       "        vertical-align: middle;\n",
       "    }\n",
       "\n",
       "    .dataframe tbody tr th {\n",
       "        vertical-align: top;\n",
       "    }\n",
       "\n",
       "    .dataframe thead th {\n",
       "        text-align: right;\n",
       "    }\n",
       "</style>\n",
       "<table border=\"1\" class=\"dataframe\">\n",
       "  <thead>\n",
       "    <tr style=\"text-align: right;\">\n",
       "      <th></th>\n",
       "      <th>material</th>\n",
       "      <th>density</th>\n",
       "      <th>universe</th>\n",
       "      <th>filler</th>\n",
       "    </tr>\n",
       "    <tr>\n",
       "      <th>cell</th>\n",
       "      <th></th>\n",
       "      <th></th>\n",
       "      <th></th>\n",
       "      <th></th>\n",
       "    </tr>\n",
       "  </thead>\n",
       "  <tbody>\n",
       "    <tr>\n",
       "      <th>1</th>\n",
       "      <td>0</td>\n",
       "      <td>0.0</td>\n",
       "      <td>NaN</td>\n",
       "      <td>125.0</td>\n",
       "    </tr>\n",
       "    <tr>\n",
       "      <th>21</th>\n",
       "      <td>4</td>\n",
       "      <td>-1.0</td>\n",
       "      <td>125.0</td>\n",
       "      <td>NaN</td>\n",
       "    </tr>\n",
       "    <tr>\n",
       "      <th>22</th>\n",
       "      <td>0</td>\n",
       "      <td>0.0</td>\n",
       "      <td>125.0</td>\n",
       "      <td>NaN</td>\n",
       "    </tr>\n",
       "    <tr>\n",
       "      <th>99</th>\n",
       "      <td>0</td>\n",
       "      <td>0.0</td>\n",
       "      <td>NaN</td>\n",
       "      <td>NaN</td>\n",
       "    </tr>\n",
       "    <tr>\n",
       "      <th>299</th>\n",
       "      <td>0</td>\n",
       "      <td>0.0</td>\n",
       "      <td>125.0</td>\n",
       "      <td>NaN</td>\n",
       "    </tr>\n",
       "  </tbody>\n",
       "</table>\n",
       "</div>"
      ],
      "text/plain": [
       "      material  density  universe  filler\n",
       "cell                                     \n",
       "1            0      0.0       NaN   125.0\n",
       "21           4     -1.0     125.0     NaN\n",
       "22           0      0.0     125.0     NaN\n",
       "99           0      0.0       NaN     NaN\n",
       "299          0      0.0     125.0     NaN"
      ]
     },
     "execution_count": 20,
     "metadata": {},
     "output_type": "execute_result"
    }
   ],
   "source": [
    "inp_universes.get_cells_summary()"
   ]
  },
  {
   "cell_type": "markdown",
   "metadata": {},
   "source": [
    "## Working with D1S-UNED files"
   ]
  },
  {
   "cell_type": "markdown",
   "metadata": {},
   "source": [
    "### Reaction file"
   ]
  },
  {
   "cell_type": "markdown",
   "metadata": {},
   "source": [
    "Reaction files (default name 'reac') contain all the reaction pathways that\n",
    "should be considered during a D1S-UNED simulation. They are implemented in\n",
    "F4Enix as a simple list of single reactions."
   ]
  },
  {
   "cell_type": "code",
   "execution_count": 21,
   "metadata": {},
   "outputs": [
    {
     "data": {
      "text/plain": [
       "\n",
       "parent: 1001.91c\n",
       "MT channel: 102\n",
       "daughter: 1002\n",
       "comment: fake reaction"
      ]
     },
     "execution_count": 21,
     "metadata": {},
     "output_type": "execute_result"
    }
   ],
   "source": [
    "from f4enix.input.d1suned import Reaction, ReactionFile\n",
    "\n",
    "# Generate a single reaction (it can also be created from a formatted string)\n",
    "reac = Reaction('1001.91c', 102, '1002', comment='fake reaction')\n",
    "reac"
   ]
  },
  {
   "cell_type": "code",
   "execution_count": 22,
   "metadata": {},
   "outputs": [
    {
     "data": {
      "text/plain": [
       "       Parent     MT Daughter                                 Comment\n",
       "    26054.99c    102    26055                                    Fe55\n",
       "    26054.99c    103    25054                                    Mn54\n",
       "    26054.99c    107    24051                                    Cr51\n",
       "    26056.99c    105    25054                                    Mn54\n",
       "    26056.99c    103    25056                                    Mn56\n",
       "    26056.99c     16    26055                                    Fe55\n",
       "    26057.99c     28    25056                                    Mn56\n",
       "    26057.99c    104    25056                                    Mn56\n",
       "    26058.99c    102    26059                                    Fe59\n",
       "    26058.99c    105    25056                                    Mn56"
      ]
     },
     "execution_count": 22,
     "metadata": {},
     "output_type": "execute_result"
    }
   ],
   "source": [
    "import tempfile\n",
    "\n",
    "# A reaction file can be generated from a list of reactions and saved\n",
    "reac_file = ReactionFile([reac])\n",
    "outpath = tempfile.gettempdir()\n",
    "reac_file.write(outpath)\n",
    "\n",
    "# But more often is instantiated directly from an exisiting file\n",
    "reac_file = ReactionFile.from_text('reac_fe')\n",
    "reac_file"
   ]
  },
  {
   "cell_type": "code",
   "execution_count": 23,
   "metadata": {},
   "outputs": [
    {
     "name": "stdout",
     "output_type": "stream",
     "text": [
      "       Parent     MT Daughter                                 Comment\n",
      "    26054.98c    102    26055                                    Fe55\n",
      "    26054.98c    103    25054                                    Mn54\n",
      "    26054.98c    107    24051                                    Cr51\n",
      "    26056.98c    105    25054                                    Mn54\n",
      "    26056.98c    103    25056                                    Mn56\n",
      "    26056.98c     16    26055                                    Fe55\n",
      "    26057.98c     28    25056                                    Mn56\n",
      "    26057.98c    104    25056                                    Mn56\n",
      "    26058.98c    102    26059                                    Fe59\n",
      "    26058.98c    105    25056                                    Mn56\n",
      "\n",
      "Parent list:\n"
     ]
    },
    {
     "data": {
      "text/plain": [
       "['26054', '26056', '26057', '26058']"
      ]
     },
     "execution_count": 23,
     "metadata": {},
     "output_type": "execute_result"
    }
   ],
   "source": [
    "# a convenient method is also provided to change the activation library to use\n",
    "reac_file.change_lib('98c')\n",
    "print(reac_file)\n",
    "\n",
    "# and it is also possible to get a list of parents\n",
    "print('Parent list:')\n",
    "reac_file.get_parents()"
   ]
  },
  {
   "cell_type": "markdown",
   "metadata": {},
   "source": [
    "### Irradiation file"
   ]
  },
  {
   "cell_type": "markdown",
   "metadata": {},
   "source": [
    "Irradiation files contain information related to the time correction\n",
    "factors to be used in the D1S-UNED calculation."
   ]
  },
  {
   "cell_type": "code",
   "execution_count": 24,
   "metadata": {},
   "outputs": [
    {
     "name": "stdout",
     "output_type": "stream",
     "text": [
      "\n",
      "Daughter: 26059\n",
      "lambda [1/s]: 1800.0\n",
      "times: ['4e3', '5e3']\n",
      "comment: Fake irr\n",
      "\n"
     ]
    }
   ],
   "source": [
    "from f4enix.input.d1suned import Irradiation, IrradiationFile\n",
    "\n",
    "# generate a single irradiation from scratch\n",
    "irr = Irradiation(26059, 1.8e3, ['4e3', '5e3'], comment='Fake irr')\n",
    "print(irr)"
   ]
  },
  {
   "cell_type": "code",
   "execution_count": 25,
   "metadata": {},
   "outputs": [
    {
     "data": {
      "text/plain": [
       "[['24051', '2.896e-07', '5.982e+00', '5.697e+00', 'Cr51'],\n",
       " ['25054', '2.570e-08', '5.881e+00', '1.829e+00', 'Mn54'],\n",
       " ['26055', '8.031e-09', '4.487e+00', '6.364e-01', 'Fe55']]"
      ]
     },
     "execution_count": 25,
     "metadata": {},
     "output_type": "execute_result"
    }
   ],
   "source": [
    "import tempfile\n",
    "\n",
    "# More often an existing irradiation file is parsed\n",
    "irrad_file = IrradiationFile.from_text('irr_test')\n",
    "\n",
    "# eliminate the last irradiation and save\n",
    "irrad_file.irr_schedules = irrad_file.irr_schedules[:-1]\n",
    "irrad_file.write(tempfile.gettempdir())\n",
    "\n",
    "# get the list of irradiation schedules\n",
    "irrad_file.irr_schedules"
   ]
  },
  {
   "cell_type": "code",
   "execution_count": 26,
   "metadata": {},
   "outputs": [
    {
     "name": "stdout",
     "output_type": "stream",
     "text": [
      "\n",
      "Daughter: 24051\n",
      "lambda [1/s]: 2.896e-07\n",
      "times: ['5.982e+00', '5.697e+00']\n",
      "comment: Cr51\n",
      "\n",
      "['24051', '25054', '26055']\n"
     ]
    }
   ],
   "source": [
    "# auxiliary method to retrieve a specific irradiation\n",
    "print(irrad_file.get_irrad('24051'))\n",
    "\n",
    "# auxiliary method to get all daughters\n",
    "print(irrad_file.get_daughters())"
   ]
  },
  {
   "cell_type": "markdown",
   "metadata": {},
   "source": [
    "### D1S MCNP input"
   ]
  },
  {
   "cell_type": "markdown",
   "metadata": {},
   "source": [
    "The D1S-UNED MCNP input is exactly the same as a normal MCNP input with a few\n",
    "additional cards. In F4Enix is implemented as a child of the ``Input`` class\n",
    "and it includes as attributes also an ``IrradiationFile`` and ``ReactionFile``\n",
    "objects. There are many ways to initialize this object and the simplest one\n",
    "is when all text input files are aleady available and can be parsed."
   ]
  },
  {
   "cell_type": "code",
   "execution_count": 27,
   "metadata": {},
   "outputs": [
    {
     "name": "stdout",
     "output_type": "stream",
     "text": [
      "<class 'f4enix.input.d1suned.ReactionFile'>\n",
      "<class 'f4enix.input.d1suned.IrradiationFile'>\n"
     ]
    }
   ],
   "source": [
    "from f4enix.input.d1suned import ReactionFile, IrradiationFile\n",
    "from f4enix.input.MCNPinput import D1S_Input\n",
    "\n",
    "# Simplest case, all text input are already present and can be parsed\n",
    "d1s_inp = D1S_Input.from_input('d1stest.i', irrad_file='irr_test',\n",
    "                               reac_file='reac_fe')\n",
    "print(type(d1s_inp.reac_file))\n",
    "print(type(d1s_inp.irrad_file))"
   ]
  },
  {
   "cell_type": "markdown",
   "metadata": {},
   "source": [
    "Nevertheless, F4Enix can also help in the automatic generation of irrad and\n",
    "react file. An example can be the following: let's suppose that a number\n",
    "of daughters have been identified as the most important radioactive isotopes\n",
    "of interest for a specific SDDR computation. A reaction file can be built\n",
    "automatically that will include all the reactions available in a specific\n",
    "activation library that lead to one of the listed daughters. Only parents\n",
    "that are included in the materials of the MCNP input will be considered."
   ]
  },
  {
   "cell_type": "code",
   "execution_count": 28,
   "metadata": {},
   "outputs": [
    {
     "name": "stdout",
     "output_type": "stream",
     "text": [
      "Daughters:\n",
      "['24051', '25054', '26055', '26059']\n"
     ]
    },
    {
     "data": {
      "text/plain": [
       "       Parent     MT Daughter                                 Comment\n",
       "    24050.99c    102    24051                          Cr-50 -> Cr-51\n",
       "    24052.99c     16    24051                          Cr-52 -> Cr-51\n",
       "    25055.99c     16    25054                          Mn-55 -> Mn-54\n",
       "    26054.99c    102    26055                          Fe-54 -> Fe-55\n",
       "    26054.99c    103    25054                          Fe-54 -> Mn-54\n",
       "    26054.99c    107    24051                          Fe-54 -> Cr-51\n",
       "    26056.99c    105    25054                          Fe-56 -> Mn-54\n",
       "    26056.99c     16    26055                          Fe-56 -> Fe-55\n",
       "    26058.99c    102    26059                          Fe-58 -> Fe-59\n",
       "    27059.99c    103    26059                          Co-59 -> Fe-59\n",
       "    28058.99c    112    25054                          Ni-58 -> Mn-54\n",
       "    28062.99c    107    26059                          Ni-62 -> Fe-59"
      ]
     },
     "execution_count": 28,
     "metadata": {},
     "output_type": "execute_result"
    }
   ],
   "source": [
    "from f4enix.input.libmanager import LibManager\n",
    "\n",
    "# Parse only the MCNP input and the irrad file containing the list of daughters\n",
    "# to be considered\n",
    "d1s_inp = D1S_Input.from_input('d1stest.i', irrad_file='irr_test')\n",
    "print('Daughters:')\n",
    "print(d1s_inp.irrad_file.get_daughters())\n",
    "\n",
    "# generate the reaction file with the default Library Manager and the 99c lib.\n",
    "lm = LibManager()\n",
    "d1s_inp.get_reaction_file(lm, '99c')\n",
    "d1s_inp.reac_file"
   ]
  },
  {
   "cell_type": "markdown",
   "metadata": {},
   "source": [
    "If no decision has been taken on which daughters should be considered,\n",
    "F4Enix also allows to have a list of all the possible reactions that\n",
    "are foreseen from a specified activation library where the parent isotope\n",
    "is listed an at least one material of the MCNP input.\n"
   ]
  },
  {
   "cell_type": "code",
   "execution_count": 29,
   "metadata": {},
   "outputs": [
    {
     "data": {
      "text/plain": [
       "[\n",
       " parent: 13027.98c\n",
       " MT channel: 107\n",
       " daughter: 11024\n",
       " comment: Al-27 -> Na-24,\n",
       " \n",
       " parent: 24050.98c\n",
       " MT channel: 102\n",
       " daughter: 24051\n",
       " comment: Cr-50 -> Cr-51,\n",
       " \n",
       " parent: 24052.98c\n",
       " MT channel: 16\n",
       " daughter: 24051\n",
       " comment: Cr-52 -> Cr-51]"
      ]
     },
     "execution_count": 29,
     "metadata": {},
     "output_type": "execute_result"
    }
   ],
   "source": [
    "# parse only the MNCP input\n",
    "d1s_inp = D1S_Input.from_input('d1stest.i')\n",
    "lm = LibManager()\n",
    "# this is a list of reactions and can be directly used to initialize a reaction\n",
    "# file if needed.\n",
    "d1s_inp.get_potential_paths(lm, '98c')[:3]"
   ]
  },
  {
   "cell_type": "markdown",
   "metadata": {},
   "source": [
    "Another common task could be to translate a d1s input (and reaction file)\n",
    "from a library to another. The first method to do this is a 1 to 1 conversion.\n",
    "This is also available also in a standard MCNP input. This works if the decay\n",
    "pathways of interest (reactions) are available in both libraries. This check\n",
    "is not performed by F4Enix!"
   ]
  },
  {
   "cell_type": "code",
   "execution_count": 30,
   "metadata": {},
   "outputs": [
    {
     "name": "stdout",
     "output_type": "stream",
     "text": [
      "before:\n",
      "0E-5     $        AB(%)     \n",
      "      74182.99c        6.254000E-7     $        AB(%)     \n",
      "      74183.21c        3.377160E-7     $        AB(%)     \n",
      "      74184.21c        7.231040E-7     $        AB(%)     \n",
      "      74186.99c        6.709480E-7     $        AB(%)     \n",
      "      82206.21c        4.048800E-7     $        AB(%)     \n",
      "      82207.21c        3.712800E-7     $        AB(%)     \n",
      "      82208.21c        8.803200E-7     $        AB(%)     \n",
      "      83209.21c        1.660000E-6     $        AB(%)     \n",
      "\n",
      "after:\n",
      "0E-5     $        AB(%)     \n",
      "      74182.98c        6.254000E-7     $        AB(%)     \n",
      "      74183.31c        3.377160E-7     $        AB(%)     \n",
      "      74184.31c        7.231040E-7     $        AB(%)     \n",
      "      74186.98c        6.709480E-7     $        AB(%)     \n",
      "      82206.31c        4.048800E-7     $        AB(%)     \n",
      "      82207.31c        3.712800E-7     $        AB(%)     \n",
      "      82208.31c        8.803200E-7     $        AB(%)     \n",
      "      83209.31c        1.660000E-6     $        AB(%)     \n",
      "\n",
      "reac file:\n"
     ]
    },
    {
     "data": {
      "text/plain": [
       "       Parent     MT Daughter                                 Comment\n",
       "    26054.98c    102    26055                                    Fe55\n",
       "    26054.98c    103    25054                                    Mn54\n",
       "    26054.98c    107    24051                                    Cr51\n",
       "    26056.98c    105    25054                                    Mn54\n",
       "    26056.98c    103    25056                                    Mn56\n",
       "    26056.98c     16    26055                                    Fe55\n",
       "    26057.98c     28    25056                                    Mn56\n",
       "    26057.98c    104    25056                                    Mn56\n",
       "    26058.98c    102    26059                                    Fe59\n",
       "    26058.98c    105    25056                                    Mn56"
      ]
     },
     "execution_count": 30,
     "metadata": {},
     "output_type": "execute_result"
    }
   ],
   "source": [
    "d1s_inp = D1S_Input.from_input('d1stest.i', irrad_file='irr_test',\n",
    "                               reac_file='reac_fe')\n",
    "\n",
    "print('before:')\n",
    "print(d1s_inp.materials['M1'].to_text()[-500:])\n",
    "\n",
    "# this translates all activated zaid with old library 99c to the new 98c. Also\n",
    "# the transport library is changed here, from 21c to 31c\n",
    "new_lib = {'99c': '98c', '21c': '31c'}\n",
    "lm = LibManager()\n",
    "d1s_inp.translate(new_lib, lm)\n",
    "\n",
    "# Check the translation (only a piece of a material)\n",
    "print('\\nafter:')\n",
    "print(d1s_inp.materials['M1'].to_text()[-500:])\n",
    "\n",
    "# Manually change also the library in the reaction file\n",
    "d1s_inp.reac_file.change_lib('98c')\n",
    "print('\\nreac file:')\n",
    "d1s_inp.reac_file"
   ]
  },
  {
   "cell_type": "markdown",
   "metadata": {},
   "source": [
    "In addition to this, a new translating method has been defined for the\n",
    "``D1S_Input`` object. Let's suppose that this is the first time a D1S-INPUT\n",
    "is generated for a specific application. Once irradiation and reaction files\n",
    "have been defined, the MCNP input can be translated specifying an activation\n",
    "and a transport lib. The activation lib will be automatically assigned to\n",
    "all parents indicated the reac file."
   ]
  },
  {
   "cell_type": "code",
   "execution_count": 31,
   "metadata": {},
   "outputs": [
    {
     "name": "stderr",
     "output_type": "stream",
     "text": [
      "WARNING:root: The Default library 81c was used for zaid 1001\n"
     ]
    },
    {
     "name": "stdout",
     "output_type": "stream",
     "text": [
      "before:\n",
      "-1     $        AB(%)     \n",
      "      26057.31c        1.065860E-2     $        AB(%)     \n",
      "      26058.31c        1.418460E-3     $        AB(%)     \n",
      "      27059.31c        3.680000E-4     $        AB(%)     \n",
      "      28058.31c        6.167770E-2     $        AB(%)     \n",
      "      28060.31c        2.375810E-2     $        AB(%)     \n",
      "      28061.31c        1.032750E-3     $        AB(%)     \n",
      "      28062.31c        3.292860E-3     $        AB(%)     \n",
      "      28064.31c        8.385940E-4     $        AB(%)     \n",
      " \n",
      "\n",
      "after:\n",
      "-1     $        AB(%)     \n",
      "      26057.99c        1.065860E-2     $        AB(%)     \n",
      "      26058.99c        1.418460E-3     $        AB(%)     \n",
      "      27059.00c        3.680000E-4     $        AB(%)     \n",
      "      28058.00c        6.167770E-2     $        AB(%)     \n",
      "      28060.00c        2.375810E-2     $        AB(%)     \n",
      "      28061.00c        1.032750E-3     $        AB(%)     \n",
      "      28062.00c        3.292860E-3     $        AB(%)     \n",
      "      28064.00c        8.385940E-4     $        AB(%)     \n",
      " \n"
     ]
    }
   ],
   "source": [
    "# reset everything to just one lib\n",
    "d1s_inp.translate('31c', lm)\n",
    "print('before:')\n",
    "print(d1s_inp.materials['M1'].to_text()[2000:2500])\n",
    "\n",
    "# smart translate\n",
    "d1s_inp.smart_translate('99c', '00c', lm)\n",
    "print('\\nafter:')\n",
    "print(d1s_inp.materials['M1'].to_text()[2000:2500])"
   ]
  },
  {
   "cell_type": "markdown",
   "metadata": {},
   "source": [
    "To conclude, two other cards that are needed for a D1S-UNED run can be\n",
    "automatically generated using F4Enix. The PIKMT card and the FU card to\n",
    "track the contribution of either parents or daughters to a specific\n",
    "tally."
   ]
  },
  {
   "cell_type": "code",
   "execution_count": 32,
   "metadata": {},
   "outputs": [
    {
     "name": "stdout",
     "output_type": "stream",
     "text": [
      "PIKMT\n",
      "         26054    0\n",
      "         26056    0\n",
      "         26057    0\n",
      "         26058    0\n",
      "\n",
      "c\n",
      "C ---------------- Dose Calculation --------------------------------------------\n",
      "C    tally  *    ICF           *      DF        *   Sv/pSv       *     s/h    \n",
      "C [p/cm^2/#]* 1.0714e17 [#/s]) * [pSv/(p/cm^2)] * 1e-12 [Sv/pSv] * 3600 [s/h] \n",
      "C ------------------------------------------------------------------------------\n",
      "F124:p 10 11 12 13\n",
      "FU124 0\n",
      "         -26054\n",
      "\n"
     ]
    }
   ],
   "source": [
    "d1s_inp = D1S_Input.from_input('d1stest.i', irrad_file='irr_test',\n",
    "                               reac_file='reac_fe')\n",
    "\n",
    "# add a PIKMT card to the input based on reac file\n",
    "d1s_inp.add_PIKMT_card()\n",
    "print(d1s_inp.other_data['PIKMT'].card())\n",
    "\n",
    "# Add a FU card to a tally\n",
    "d1s_inp.add_track_contribution('F124', [26054], who='parent')\n",
    "print(d1s_inp.other_data['F124'].card())"
   ]
  },
  {
   "cell_type": "markdown",
   "metadata": {},
   "source": [
    "## Working with weight window files and GVRs"
   ]
  },
  {
   "cell_type": "markdown",
   "metadata": {},
   "source": [
    "The ww_gvr module can operate on Weight Window files to, for example, reduce the likelihood of long history problems, or to add or remove a secondary particle.\n",
    "It can also generate Global Variance Reduction files (GVR) by reading a Meshtally file.\n",
    "This module can be used via Python scripting or through a command line interface."
   ]
  },
  {
   "cell_type": "markdown",
   "metadata": {},
   "source": [
    "### Example of use via Python scripting"
   ]
  },
  {
   "cell_type": "code",
   "execution_count": 14,
   "metadata": {},
   "outputs": [
    {
     "name": "stdout",
     "output_type": "stream",
     "text": [
      " ww_simple_cart weight window\n",
      "       ----From---- -----To----- --No. Bins--\n",
      " I -->    -15.0         15.0          2      \n",
      " J -->    -15.0         16.0          3      \n",
      " K -->    -15.0         20.0          1      \n",
      "\n",
      " Cartesian coordinates, 6 voxels.\n",
      "\n",
      " The weight window contains 1 particle/s\n",
      "\n",
      " ---------------------Neutron----------------------\n",
      " Energy bins:         [100.0]\n",
      " Min value:           8.98E-02\n",
      " Max value:           6.73E-01\n",
      " No.Bins > 0 [%]:     100.0%\n",
      " Average ratio:       5.97E+00\n",
      " Max ratio:           6.74E+00\n"
     ]
    }
   ],
   "source": [
    "from f4enix.input.ww_gvr import WW\n",
    "from f4enix.input.ww_gvr.utils import WW_SIMPLE_CART\n",
    "\n",
    "# Load the weight window by reading a WW file\n",
    "ww = WW.load_from_ww_file(WW_SIMPLE_CART)  # WW_SIMPLE_CART is a path to a WW file like \"D:/DATA/WW/ww_simple_cart.ww\"\n",
    "\n",
    "print(ww)"
   ]
  },
  {
   "cell_type": "code",
   "execution_count": 15,
   "metadata": {},
   "outputs": [
    {
     "name": "stdout",
     "output_type": "stream",
     "text": [
      " ww_simple_cart weight window\n",
      "       ----From---- -----To----- --No. Bins--\n",
      " I -->    -15.0         15.0          2      \n",
      " J -->    -15.0         16.0          3      \n",
      " K -->    -15.0         20.0          1      \n",
      "\n",
      " Cartesian coordinates, 6 voxels.\n",
      "\n",
      " The weight window contains 2 particle/s\n",
      "\n",
      " ---------------------Neutron----------------------\n",
      " Energy bins:         [100.0]\n",
      " Min value:           3.28E-01\n",
      " Max value:           8.99E-01\n",
      " No.Bins > 0 [%]:     100.0%\n",
      " Average ratio:       2.44E+00\n",
      " Max ratio:           2.60E+00\n",
      "\n",
      " ----------------------Photon----------------------\n",
      " Energy bins:         [100.0]\n",
      " Min value:           6.57E-02\n",
      " Max value:           1.80E-01\n",
      " No.Bins > 0 [%]:     100.0%\n",
      " Average ratio:       2.44E+00\n",
      " Max ratio:           2.60E+00\n"
     ]
    }
   ],
   "source": [
    "# Normalize the weight window\n",
    "ww.multiply(1.2)\n",
    "\n",
    "# Soft the weight window\n",
    "ww.soften(0.5)\n",
    "\n",
    "# Add a secondary particle\n",
    "ww.add_particle(norm=0.2, soft=1.)\n",
    "\n",
    "# Ensure that there are no high ratios between voxels to avoid long histories\n",
    "ww.mitigate_long_histories(max_ratio=10.)\n",
    "\n",
    "# Save the modified ww to a new file\n",
    "ww.write_to_ww_file('D:/ww_modified.ww')\n",
    "\n",
    "# Export the ww as a VTK to visualize it in Paraview\n",
    "ww.export_as_vtk('D:/ww_modified.vtk')\n",
    "\n",
    "print(ww)"
   ]
  },
  {
   "cell_type": "code",
   "execution_count": 12,
   "metadata": {},
   "outputs": [
    {
     "name": "stderr",
     "output_type": "stream",
     "text": [
      "c:\\ProgramData\\Anaconda3\\envs\\py311\\Lib\\site-packages\\pyvista\\jupyter\\notebook.py:33: UserWarning: Failed to use notebook backend: \n",
      "\n",
      "No module named 'trame'\n",
      "\n",
      "Falling back to a static output.\n",
      "  warnings.warn(\n"
     ]
    },
    {
     "data": {
      "image/png": "[encoded data removed]",
      "text/plain": [
       "<PIL.Image.Image image mode=RGB size=1024x768>"
      ]
     },
     "metadata": {},
     "output_type": "display_data"
    }
   ],
   "source": [
    "# Interactive plot\n",
    "ww.plot()"
   ]
  },
  {
   "cell_type": "markdown",
   "metadata": {},
   "source": [
    "### Creation of a GVR"
   ]
  },
  {
   "cell_type": "code",
   "execution_count": 16,
   "metadata": {},
   "outputs": [
    {
     "name": "stdout",
     "output_type": "stream",
     "text": [
      " meshtally_cart weight window\n",
      "       ----From---- -----To----- --No. Bins--\n",
      " I -->    -10.0         20.0          3      \n",
      " J -->     20.0         40.0          4      \n",
      " K -->     15.0         25.0          2      \n",
      "\n",
      " Cartesian coordinates, 24 voxels.\n",
      "\n",
      " The weight window contains 1 particle/s\n",
      "\n",
      " ---------------------Neutron----------------------\n",
      " Energy bins:         [100.0]\n",
      " Min value:           1.30E-01\n",
      " Max value:           3.33E-01\n",
      " No.Bins > 0 [%]:     100.0%\n",
      " Average ratio:       1.25E+00\n",
      " Max ratio:           1.31E+00\n"
     ]
    }
   ],
   "source": [
    "from f4enix.input.ww_gvr.utils import MESHTALLY_CART\n",
    "\n",
    "gvr = WW.create_gvr_from_meshtally_file(MESHTALLY_CART)  # MESHTALLY_CART is a path to a meshtally file like \"D:/DATA/WW/meshtally_cart.msh\"\n",
    "\n",
    "print(gvr)"
   ]
  },
  {
   "cell_type": "markdown",
   "metadata": {},
   "source": [
    "### Use via a Command Line Interface\n",
    "The CLI can be invoked by `python -m f4enix.input.ww_gvr` \n"
   ]
  }
 ],
 "metadata": {
  "kernelspec": {
   "display_name": "f4enix",
   "language": "python",
   "name": "python3"
  },
  "language_info": {
   "codemirror_mode": {
    "name": "ipython",
    "version": 3
   },
   "file_extension": ".py",
   "mimetype": "text/x-python",
   "name": "python",
   "nbconvert_exporter": "python",
   "pygments_lexer": "ipython3",
   "version": "3.10.13"
  },
  "orig_nbformat": 4
 },
 "nbformat": 4,
 "nbformat_minor": 2
}
